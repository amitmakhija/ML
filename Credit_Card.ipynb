{
  "nbformat": 4,
  "nbformat_minor": 0,
  "metadata": {
    "colab": {
      "name": "Credit Card.ipynb",
      "provenance": [],
      "collapsed_sections": []
    },
    "kernelspec": {
      "name": "python3",
      "display_name": "Python 3"
    },
    "language_info": {
      "name": "python"
    }
  },
  "cells": [
    {
      "cell_type": "code",
      "metadata": {
        "id": "TMCiyM9-AZOW"
      },
      "source": [
        "import pandas as pd\n",
        "import numpy as np\n",
        "import seaborn as sns\n",
        "import matplotlib.pyplot as plt\n",
        "%matplotlib inline\n",
        "import warnings\n",
        "warnings.filterwarnings(\"ignore\")"
      ],
      "execution_count": null,
      "outputs": []
    },
    {
      "cell_type": "code",
      "metadata": {
        "id": "SSzJ4ZUxAnH6"
      },
      "source": [
        "from google.colab import drive"
      ],
      "execution_count": null,
      "outputs": []
    },
    {
      "cell_type": "code",
      "metadata": {
        "colab": {
          "base_uri": "https://localhost:8080/"
        },
        "id": "z9uryib8AuOs",
        "outputId": "9cad28b3-e143-4c2b-c084-790d918f8af0"
      },
      "source": [
        "drive.mount('test', force_remount=True)"
      ],
      "execution_count": null,
      "outputs": [
        {
          "output_type": "stream",
          "text": [
            "Mounted at test\n"
          ],
          "name": "stdout"
        }
      ]
    },
    {
      "cell_type": "code",
      "metadata": {
        "id": "LS9Y9KhLAzc-"
      },
      "source": [
        "df1 = pd.read_csv('/content/test/MyDrive/test/application_record.csv') #Details collected at the time of application\n",
        "df2 = pd.read_csv('/content/test/MyDrive/test/credit_record.csv') #Credit history. The file we have to work with"
      ],
      "execution_count": null,
      "outputs": []
    },
    {
      "cell_type": "code",
      "metadata": {
        "colab": {
          "base_uri": "https://localhost:8080/"
        },
        "id": "DizJz1bwByYg",
        "outputId": "ec25a8d2-c576-468a-c22a-b3f2cf962b50"
      },
      "source": [
        "df1.shape"
      ],
      "execution_count": null,
      "outputs": [
        {
          "output_type": "execute_result",
          "data": {
            "text/plain": [
              "(438557, 18)"
            ]
          },
          "metadata": {
            "tags": []
          },
          "execution_count": 590
        }
      ]
    },
    {
      "cell_type": "code",
      "metadata": {
        "colab": {
          "base_uri": "https://localhost:8080/"
        },
        "id": "JrsDXco3_mg-",
        "outputId": "7fdf04c3-5f91-4f60-f58f-bf205f56e0d1"
      },
      "source": [
        "df2.shape"
      ],
      "execution_count": null,
      "outputs": [
        {
          "output_type": "execute_result",
          "data": {
            "text/plain": [
              "(1048575, 3)"
            ]
          },
          "metadata": {
            "tags": []
          },
          "execution_count": 591
        }
      ]
    },
    {
      "cell_type": "code",
      "metadata": {
        "colab": {
          "base_uri": "https://localhost:8080/",
          "height": 277
        },
        "id": "NTsUvyCQB1JU",
        "outputId": "e9444182-6d21-44d0-8fb4-9c64b235e363"
      },
      "source": [
        "df1.head()"
      ],
      "execution_count": null,
      "outputs": [
        {
          "output_type": "execute_result",
          "data": {
            "text/html": [
              "<div>\n",
              "<style scoped>\n",
              "    .dataframe tbody tr th:only-of-type {\n",
              "        vertical-align: middle;\n",
              "    }\n",
              "\n",
              "    .dataframe tbody tr th {\n",
              "        vertical-align: top;\n",
              "    }\n",
              "\n",
              "    .dataframe thead th {\n",
              "        text-align: right;\n",
              "    }\n",
              "</style>\n",
              "<table border=\"1\" class=\"dataframe\">\n",
              "  <thead>\n",
              "    <tr style=\"text-align: right;\">\n",
              "      <th></th>\n",
              "      <th>ID</th>\n",
              "      <th>CODE_GENDER</th>\n",
              "      <th>FLAG_OWN_CAR</th>\n",
              "      <th>FLAG_OWN_REALTY</th>\n",
              "      <th>CNT_CHILDREN</th>\n",
              "      <th>AMT_INCOME_TOTAL</th>\n",
              "      <th>NAME_INCOME_TYPE</th>\n",
              "      <th>NAME_EDUCATION_TYPE</th>\n",
              "      <th>NAME_FAMILY_STATUS</th>\n",
              "      <th>NAME_HOUSING_TYPE</th>\n",
              "      <th>DAYS_BIRTH</th>\n",
              "      <th>DAYS_EMPLOYED</th>\n",
              "      <th>FLAG_MOBIL</th>\n",
              "      <th>FLAG_WORK_PHONE</th>\n",
              "      <th>FLAG_PHONE</th>\n",
              "      <th>FLAG_EMAIL</th>\n",
              "      <th>OCCUPATION_TYPE</th>\n",
              "      <th>CNT_FAM_MEMBERS</th>\n",
              "    </tr>\n",
              "  </thead>\n",
              "  <tbody>\n",
              "    <tr>\n",
              "      <th>0</th>\n",
              "      <td>5008804</td>\n",
              "      <td>M</td>\n",
              "      <td>Y</td>\n",
              "      <td>Y</td>\n",
              "      <td>0</td>\n",
              "      <td>427500.0</td>\n",
              "      <td>Working</td>\n",
              "      <td>Higher education</td>\n",
              "      <td>Civil marriage</td>\n",
              "      <td>Rented apartment</td>\n",
              "      <td>-12005</td>\n",
              "      <td>-4542</td>\n",
              "      <td>1</td>\n",
              "      <td>1</td>\n",
              "      <td>0</td>\n",
              "      <td>0</td>\n",
              "      <td>NaN</td>\n",
              "      <td>2.0</td>\n",
              "    </tr>\n",
              "    <tr>\n",
              "      <th>1</th>\n",
              "      <td>5008805</td>\n",
              "      <td>M</td>\n",
              "      <td>Y</td>\n",
              "      <td>Y</td>\n",
              "      <td>0</td>\n",
              "      <td>427500.0</td>\n",
              "      <td>Working</td>\n",
              "      <td>Higher education</td>\n",
              "      <td>Civil marriage</td>\n",
              "      <td>Rented apartment</td>\n",
              "      <td>-12005</td>\n",
              "      <td>-4542</td>\n",
              "      <td>1</td>\n",
              "      <td>1</td>\n",
              "      <td>0</td>\n",
              "      <td>0</td>\n",
              "      <td>NaN</td>\n",
              "      <td>2.0</td>\n",
              "    </tr>\n",
              "    <tr>\n",
              "      <th>2</th>\n",
              "      <td>5008806</td>\n",
              "      <td>M</td>\n",
              "      <td>Y</td>\n",
              "      <td>Y</td>\n",
              "      <td>0</td>\n",
              "      <td>112500.0</td>\n",
              "      <td>Working</td>\n",
              "      <td>Secondary / secondary special</td>\n",
              "      <td>Married</td>\n",
              "      <td>House / apartment</td>\n",
              "      <td>-21474</td>\n",
              "      <td>-1134</td>\n",
              "      <td>1</td>\n",
              "      <td>0</td>\n",
              "      <td>0</td>\n",
              "      <td>0</td>\n",
              "      <td>Security staff</td>\n",
              "      <td>2.0</td>\n",
              "    </tr>\n",
              "    <tr>\n",
              "      <th>3</th>\n",
              "      <td>5008808</td>\n",
              "      <td>F</td>\n",
              "      <td>N</td>\n",
              "      <td>Y</td>\n",
              "      <td>0</td>\n",
              "      <td>270000.0</td>\n",
              "      <td>Commercial associate</td>\n",
              "      <td>Secondary / secondary special</td>\n",
              "      <td>Single / not married</td>\n",
              "      <td>House / apartment</td>\n",
              "      <td>-19110</td>\n",
              "      <td>-3051</td>\n",
              "      <td>1</td>\n",
              "      <td>0</td>\n",
              "      <td>1</td>\n",
              "      <td>1</td>\n",
              "      <td>Sales staff</td>\n",
              "      <td>1.0</td>\n",
              "    </tr>\n",
              "    <tr>\n",
              "      <th>4</th>\n",
              "      <td>5008809</td>\n",
              "      <td>F</td>\n",
              "      <td>N</td>\n",
              "      <td>Y</td>\n",
              "      <td>0</td>\n",
              "      <td>270000.0</td>\n",
              "      <td>Commercial associate</td>\n",
              "      <td>Secondary / secondary special</td>\n",
              "      <td>Single / not married</td>\n",
              "      <td>House / apartment</td>\n",
              "      <td>-19110</td>\n",
              "      <td>-3051</td>\n",
              "      <td>1</td>\n",
              "      <td>0</td>\n",
              "      <td>1</td>\n",
              "      <td>1</td>\n",
              "      <td>Sales staff</td>\n",
              "      <td>1.0</td>\n",
              "    </tr>\n",
              "  </tbody>\n",
              "</table>\n",
              "</div>"
            ],
            "text/plain": [
              "        ID CODE_GENDER  ... OCCUPATION_TYPE CNT_FAM_MEMBERS\n",
              "0  5008804           M  ...             NaN             2.0\n",
              "1  5008805           M  ...             NaN             2.0\n",
              "2  5008806           M  ...  Security staff             2.0\n",
              "3  5008808           F  ...     Sales staff             1.0\n",
              "4  5008809           F  ...     Sales staff             1.0\n",
              "\n",
              "[5 rows x 18 columns]"
            ]
          },
          "metadata": {
            "tags": []
          },
          "execution_count": 592
        }
      ]
    },
    {
      "cell_type": "code",
      "metadata": {
        "colab": {
          "base_uri": "https://localhost:8080/"
        },
        "id": "DZKBApmtB30J",
        "outputId": "f9792f42-1d2b-4118-aa6e-8b20dbb8941f"
      },
      "source": [
        "df1.info()"
      ],
      "execution_count": null,
      "outputs": [
        {
          "output_type": "stream",
          "text": [
            "<class 'pandas.core.frame.DataFrame'>\n",
            "RangeIndex: 438557 entries, 0 to 438556\n",
            "Data columns (total 18 columns):\n",
            " #   Column               Non-Null Count   Dtype  \n",
            "---  ------               --------------   -----  \n",
            " 0   ID                   438557 non-null  int64  \n",
            " 1   CODE_GENDER          438557 non-null  object \n",
            " 2   FLAG_OWN_CAR         438557 non-null  object \n",
            " 3   FLAG_OWN_REALTY      438557 non-null  object \n",
            " 4   CNT_CHILDREN         438557 non-null  int64  \n",
            " 5   AMT_INCOME_TOTAL     438557 non-null  float64\n",
            " 6   NAME_INCOME_TYPE     438557 non-null  object \n",
            " 7   NAME_EDUCATION_TYPE  438557 non-null  object \n",
            " 8   NAME_FAMILY_STATUS   438557 non-null  object \n",
            " 9   NAME_HOUSING_TYPE    438557 non-null  object \n",
            " 10  DAYS_BIRTH           438557 non-null  int64  \n",
            " 11  DAYS_EMPLOYED        438557 non-null  int64  \n",
            " 12  FLAG_MOBIL           438557 non-null  int64  \n",
            " 13  FLAG_WORK_PHONE      438557 non-null  int64  \n",
            " 14  FLAG_PHONE           438557 non-null  int64  \n",
            " 15  FLAG_EMAIL           438557 non-null  int64  \n",
            " 16  OCCUPATION_TYPE      304354 non-null  object \n",
            " 17  CNT_FAM_MEMBERS      438557 non-null  float64\n",
            "dtypes: float64(2), int64(8), object(8)\n",
            "memory usage: 60.2+ MB\n"
          ],
          "name": "stdout"
        }
      ]
    },
    {
      "cell_type": "code",
      "metadata": {
        "colab": {
          "base_uri": "https://localhost:8080/",
          "height": 205
        },
        "id": "OFcV0VALAZk1",
        "outputId": "63a6cc2a-d57d-42f1-b519-e3d7993dd2f4"
      },
      "source": [
        "df2.head()"
      ],
      "execution_count": null,
      "outputs": [
        {
          "output_type": "execute_result",
          "data": {
            "text/html": [
              "<div>\n",
              "<style scoped>\n",
              "    .dataframe tbody tr th:only-of-type {\n",
              "        vertical-align: middle;\n",
              "    }\n",
              "\n",
              "    .dataframe tbody tr th {\n",
              "        vertical-align: top;\n",
              "    }\n",
              "\n",
              "    .dataframe thead th {\n",
              "        text-align: right;\n",
              "    }\n",
              "</style>\n",
              "<table border=\"1\" class=\"dataframe\">\n",
              "  <thead>\n",
              "    <tr style=\"text-align: right;\">\n",
              "      <th></th>\n",
              "      <th>ID</th>\n",
              "      <th>MONTHS_BALANCE</th>\n",
              "      <th>STATUS</th>\n",
              "    </tr>\n",
              "  </thead>\n",
              "  <tbody>\n",
              "    <tr>\n",
              "      <th>0</th>\n",
              "      <td>5001711</td>\n",
              "      <td>0</td>\n",
              "      <td>X</td>\n",
              "    </tr>\n",
              "    <tr>\n",
              "      <th>1</th>\n",
              "      <td>5001711</td>\n",
              "      <td>-1</td>\n",
              "      <td>0</td>\n",
              "    </tr>\n",
              "    <tr>\n",
              "      <th>2</th>\n",
              "      <td>5001711</td>\n",
              "      <td>-2</td>\n",
              "      <td>0</td>\n",
              "    </tr>\n",
              "    <tr>\n",
              "      <th>3</th>\n",
              "      <td>5001711</td>\n",
              "      <td>-3</td>\n",
              "      <td>0</td>\n",
              "    </tr>\n",
              "    <tr>\n",
              "      <th>4</th>\n",
              "      <td>5001712</td>\n",
              "      <td>0</td>\n",
              "      <td>C</td>\n",
              "    </tr>\n",
              "  </tbody>\n",
              "</table>\n",
              "</div>"
            ],
            "text/plain": [
              "        ID  MONTHS_BALANCE STATUS\n",
              "0  5001711               0      X\n",
              "1  5001711              -1      0\n",
              "2  5001711              -2      0\n",
              "3  5001711              -3      0\n",
              "4  5001712               0      C"
            ]
          },
          "metadata": {
            "tags": []
          },
          "execution_count": 594
        }
      ]
    },
    {
      "cell_type": "markdown",
      "metadata": {
        "id": "IvmNzz6DBHO3"
      },
      "source": [
        "MONTHS_BALANCE indicate the number of months in the past from the current month and STATUS indicates the Credit status of the customer. ID is the unique customer id assigned to that customer."
      ]
    },
    {
      "cell_type": "code",
      "metadata": {
        "colab": {
          "base_uri": "https://localhost:8080/"
        },
        "id": "461Uo8ZSAfjv",
        "outputId": "3275330a-93f6-4e0f-84ff-da3ed8c513e5"
      },
      "source": [
        "df2.info()"
      ],
      "execution_count": null,
      "outputs": [
        {
          "output_type": "stream",
          "text": [
            "<class 'pandas.core.frame.DataFrame'>\n",
            "RangeIndex: 1048575 entries, 0 to 1048574\n",
            "Data columns (total 3 columns):\n",
            " #   Column          Non-Null Count    Dtype \n",
            "---  ------          --------------    ----- \n",
            " 0   ID              1048575 non-null  int64 \n",
            " 1   MONTHS_BALANCE  1048575 non-null  int64 \n",
            " 2   STATUS          1048575 non-null  object\n",
            "dtypes: int64(2), object(1)\n",
            "memory usage: 24.0+ MB\n"
          ],
          "name": "stdout"
        }
      ]
    },
    {
      "cell_type": "code",
      "metadata": {
        "colab": {
          "base_uri": "https://localhost:8080/"
        },
        "id": "vmEJtrKSAjKD",
        "outputId": "e7fb1fcc-2985-4075-ceef-cd0d1a8a2322"
      },
      "source": [
        "df2['ID'].nunique()"
      ],
      "execution_count": null,
      "outputs": [
        {
          "output_type": "execute_result",
          "data": {
            "text/plain": [
              "45985"
            ]
          },
          "metadata": {
            "tags": []
          },
          "execution_count": 596
        }
      ]
    },
    {
      "cell_type": "markdown",
      "metadata": {
        "id": "9VCgVzXLBiXm"
      },
      "source": [
        "In total, we have the credit history of 45985 customers to work with"
      ]
    },
    {
      "cell_type": "markdown",
      "metadata": {
        "id": "iDdmPrziB2cf"
      },
      "source": [
        "Above mentioned are the different buckets assigned to customers. 'X', '0', 'C', '1' can be considered as good customers while '2', '3', '4', '5' can be considered as bad customers"
      ]
    },
    {
      "cell_type": "markdown",
      "metadata": {
        "id": "r-dUx7U2E5vC"
      },
      "source": [
        "Now let us find out when the customer begin and what was the last status"
      ]
    },
    {
      "cell_type": "code",
      "metadata": {
        "colab": {
          "base_uri": "https://localhost:8080/"
        },
        "id": "ZhKv3Qv7G5Tx",
        "outputId": "25fbd67b-8664-49dd-a9d2-b20c2bf76e17"
      },
      "source": [
        "df2.groupby('ID')['MONTHS_BALANCE'].min()"
      ],
      "execution_count": null,
      "outputs": [
        {
          "output_type": "execute_result",
          "data": {
            "text/plain": [
              "ID\n",
              "5001711    -3\n",
              "5001712   -18\n",
              "5001713   -21\n",
              "5001714   -14\n",
              "5001715   -59\n",
              "           ..\n",
              "5150482   -28\n",
              "5150483   -17\n",
              "5150484   -12\n",
              "5150485    -1\n",
              "5150487   -29\n",
              "Name: MONTHS_BALANCE, Length: 45985, dtype: int64"
            ]
          },
          "metadata": {
            "tags": []
          },
          "execution_count": 597
        }
      ]
    },
    {
      "cell_type": "code",
      "metadata": {
        "id": "rzHjDMCyG5DW"
      },
      "source": [
        "#df2.sort_values(by='MONTHS_BALANCE', ascending = False).drop_duplicates(subset='ID')"
      ],
      "execution_count": null,
      "outputs": []
    },
    {
      "cell_type": "code",
      "metadata": {
        "colab": {
          "base_uri": "https://localhost:8080/"
        },
        "id": "2InP2mSrBr4C",
        "outputId": "4facf1f4-c7a3-4537-8561-4d7389a26c67"
      },
      "source": [
        "df2['STATUS'].unique()"
      ],
      "execution_count": null,
      "outputs": [
        {
          "output_type": "execute_result",
          "data": {
            "text/plain": [
              "array(['X', '0', 'C', '1', '2', '3', '4', '5'], dtype=object)"
            ]
          },
          "metadata": {
            "tags": []
          },
          "execution_count": 599
        }
      ]
    },
    {
      "cell_type": "markdown",
      "metadata": {
        "id": "teZZaXcXIeXB"
      },
      "source": [
        "Now let us mark the customer as bad customer considering whether he/she has reached or crossed bucket 2 "
      ]
    },
    {
      "cell_type": "code",
      "metadata": {
        "id": "5RNOuiilHwR0"
      },
      "source": [
        "def mark_bad(status):\n",
        "  if status in ['2', '3', '4', '5']:\n",
        "    return 1\n",
        "  else:\n",
        "    return 0"
      ],
      "execution_count": null,
      "outputs": []
    },
    {
      "cell_type": "code",
      "metadata": {
        "id": "lrzMKF3AKBY2"
      },
      "source": [
        "df2['BAD'] = df2['STATUS'].apply(mark_bad)"
      ],
      "execution_count": null,
      "outputs": []
    },
    {
      "cell_type": "code",
      "metadata": {
        "colab": {
          "base_uri": "https://localhost:8080/",
          "height": 205
        },
        "id": "NNXb3ha_KBId",
        "outputId": "9a53ad7a-3bae-4f96-e62a-2719d62a8b03"
      },
      "source": [
        "df2.head()"
      ],
      "execution_count": null,
      "outputs": [
        {
          "output_type": "execute_result",
          "data": {
            "text/html": [
              "<div>\n",
              "<style scoped>\n",
              "    .dataframe tbody tr th:only-of-type {\n",
              "        vertical-align: middle;\n",
              "    }\n",
              "\n",
              "    .dataframe tbody tr th {\n",
              "        vertical-align: top;\n",
              "    }\n",
              "\n",
              "    .dataframe thead th {\n",
              "        text-align: right;\n",
              "    }\n",
              "</style>\n",
              "<table border=\"1\" class=\"dataframe\">\n",
              "  <thead>\n",
              "    <tr style=\"text-align: right;\">\n",
              "      <th></th>\n",
              "      <th>ID</th>\n",
              "      <th>MONTHS_BALANCE</th>\n",
              "      <th>STATUS</th>\n",
              "      <th>BAD</th>\n",
              "    </tr>\n",
              "  </thead>\n",
              "  <tbody>\n",
              "    <tr>\n",
              "      <th>0</th>\n",
              "      <td>5001711</td>\n",
              "      <td>0</td>\n",
              "      <td>X</td>\n",
              "      <td>0</td>\n",
              "    </tr>\n",
              "    <tr>\n",
              "      <th>1</th>\n",
              "      <td>5001711</td>\n",
              "      <td>-1</td>\n",
              "      <td>0</td>\n",
              "      <td>0</td>\n",
              "    </tr>\n",
              "    <tr>\n",
              "      <th>2</th>\n",
              "      <td>5001711</td>\n",
              "      <td>-2</td>\n",
              "      <td>0</td>\n",
              "      <td>0</td>\n",
              "    </tr>\n",
              "    <tr>\n",
              "      <th>3</th>\n",
              "      <td>5001711</td>\n",
              "      <td>-3</td>\n",
              "      <td>0</td>\n",
              "      <td>0</td>\n",
              "    </tr>\n",
              "    <tr>\n",
              "      <th>4</th>\n",
              "      <td>5001712</td>\n",
              "      <td>0</td>\n",
              "      <td>C</td>\n",
              "      <td>0</td>\n",
              "    </tr>\n",
              "  </tbody>\n",
              "</table>\n",
              "</div>"
            ],
            "text/plain": [
              "        ID  MONTHS_BALANCE STATUS  BAD\n",
              "0  5001711               0      X    0\n",
              "1  5001711              -1      0    0\n",
              "2  5001711              -2      0    0\n",
              "3  5001711              -3      0    0\n",
              "4  5001712               0      C    0"
            ]
          },
          "metadata": {
            "tags": []
          },
          "execution_count": 602
        }
      ]
    },
    {
      "cell_type": "markdown",
      "metadata": {
        "id": "FwweZUpVWFTT"
      },
      "source": [
        "## **Preparing our initial dataframe - Credit** "
      ]
    },
    {
      "cell_type": "code",
      "metadata": {
        "id": "402m_UwOKp8p"
      },
      "source": [
        "credit = pd.DataFrame(df2.groupby('ID')['MONTHS_BALANCE'].min())\n",
        "credit.columns = ['month_begin']\n",
        "credit['bad'] = df2.groupby('ID')['BAD'].max()\n",
        "#credit['month_end'] = pd.DataFrame(df2.groupby('ID')['MONTHS_BALANCE'].max())"
      ],
      "execution_count": null,
      "outputs": []
    },
    {
      "cell_type": "code",
      "metadata": {
        "colab": {
          "base_uri": "https://localhost:8080/"
        },
        "id": "0vhRP0QoUDY2",
        "outputId": "51c2ce91-3181-4801-9153-af27382735e6"
      },
      "source": [
        "credit['bad'].value_counts()"
      ],
      "execution_count": null,
      "outputs": [
        {
          "output_type": "execute_result",
          "data": {
            "text/plain": [
              "0    45318\n",
              "1      667\n",
              "Name: bad, dtype: int64"
            ]
          },
          "metadata": {
            "tags": []
          },
          "execution_count": 604
        }
      ]
    },
    {
      "cell_type": "markdown",
      "metadata": {
        "id": "NlFKQpnfWyb-"
      },
      "source": [
        "**\"bad\" column will be our target feature. As can be seen above the target column is highly imbalanced.**"
      ]
    },
    {
      "cell_type": "markdown",
      "metadata": {
        "id": "8AqNEDVs700G"
      },
      "source": [
        "Merge the remaining details of customer id taken at the time of application from df1"
      ]
    },
    {
      "cell_type": "code",
      "metadata": {
        "id": "wr8wok2juOpi"
      },
      "source": [
        "credit = credit.merge(df1, how = 'inner', on= 'ID')"
      ],
      "execution_count": null,
      "outputs": []
    },
    {
      "cell_type": "code",
      "metadata": {
        "colab": {
          "base_uri": "https://localhost:8080/"
        },
        "id": "S7N22Clo8OJI",
        "outputId": "39dca5ad-a9aa-4257-a1dd-c885a6eba742"
      },
      "source": [
        "credit.columns"
      ],
      "execution_count": null,
      "outputs": [
        {
          "output_type": "execute_result",
          "data": {
            "text/plain": [
              "Index(['ID', 'month_begin', 'bad', 'CODE_GENDER', 'FLAG_OWN_CAR',\n",
              "       'FLAG_OWN_REALTY', 'CNT_CHILDREN', 'AMT_INCOME_TOTAL',\n",
              "       'NAME_INCOME_TYPE', 'NAME_EDUCATION_TYPE', 'NAME_FAMILY_STATUS',\n",
              "       'NAME_HOUSING_TYPE', 'DAYS_BIRTH', 'DAYS_EMPLOYED', 'FLAG_MOBIL',\n",
              "       'FLAG_WORK_PHONE', 'FLAG_PHONE', 'FLAG_EMAIL', 'OCCUPATION_TYPE',\n",
              "       'CNT_FAM_MEMBERS'],\n",
              "      dtype='object')"
            ]
          },
          "metadata": {
            "tags": []
          },
          "execution_count": 606
        }
      ]
    },
    {
      "cell_type": "code",
      "metadata": {
        "id": "nd3_HQ5SQh0i"
      },
      "source": [
        "credit.rename(columns={'CODE_GENDER' : 'gender','FLAG_OWN_CAR' : 'car','FLAG_OWN_REALTY' : 'realty', 'CNT_CHILDREN' : 'children',\n",
        "                       'AMT_INCOME_TOTAL' : 'income','NAME_INCOME_TYPE' : 'income_type','NAME_EDUCATION_TYPE' : 'education',\n",
        "                       'NAME_FAMILY_STATUS' : 'family_status','NAME_HOUSING_TYPE' : 'house_type','FLAG_MOBIL' : 'mobile',\n",
        "                       'FLAG_WORK_PHONE' : 'work_phone','FLAG_PHONE' : 'phone','FLAG_EMAIL' : 'email','OCCUPATION_TYPE' : 'occupation',\n",
        "                       'CNT_FAM_MEMBERS' : 'family_members'}, inplace = True)"
      ],
      "execution_count": null,
      "outputs": []
    },
    {
      "cell_type": "code",
      "metadata": {
        "colab": {
          "base_uri": "https://localhost:8080/",
          "height": 446
        },
        "id": "juxw-VC_8d1g",
        "outputId": "4454768a-e274-40ea-b534-89bca2252293"
      },
      "source": [
        "credit.set_index('ID', drop=True).head()"
      ],
      "execution_count": null,
      "outputs": [
        {
          "output_type": "execute_result",
          "data": {
            "text/html": [
              "<div>\n",
              "<style scoped>\n",
              "    .dataframe tbody tr th:only-of-type {\n",
              "        vertical-align: middle;\n",
              "    }\n",
              "\n",
              "    .dataframe tbody tr th {\n",
              "        vertical-align: top;\n",
              "    }\n",
              "\n",
              "    .dataframe thead th {\n",
              "        text-align: right;\n",
              "    }\n",
              "</style>\n",
              "<table border=\"1\" class=\"dataframe\">\n",
              "  <thead>\n",
              "    <tr style=\"text-align: right;\">\n",
              "      <th></th>\n",
              "      <th>month_begin</th>\n",
              "      <th>bad</th>\n",
              "      <th>gender</th>\n",
              "      <th>car</th>\n",
              "      <th>realty</th>\n",
              "      <th>children</th>\n",
              "      <th>income</th>\n",
              "      <th>income_type</th>\n",
              "      <th>education</th>\n",
              "      <th>family_status</th>\n",
              "      <th>house_type</th>\n",
              "      <th>DAYS_BIRTH</th>\n",
              "      <th>DAYS_EMPLOYED</th>\n",
              "      <th>mobile</th>\n",
              "      <th>work_phone</th>\n",
              "      <th>phone</th>\n",
              "      <th>email</th>\n",
              "      <th>occupation</th>\n",
              "      <th>family_members</th>\n",
              "    </tr>\n",
              "    <tr>\n",
              "      <th>ID</th>\n",
              "      <th></th>\n",
              "      <th></th>\n",
              "      <th></th>\n",
              "      <th></th>\n",
              "      <th></th>\n",
              "      <th></th>\n",
              "      <th></th>\n",
              "      <th></th>\n",
              "      <th></th>\n",
              "      <th></th>\n",
              "      <th></th>\n",
              "      <th></th>\n",
              "      <th></th>\n",
              "      <th></th>\n",
              "      <th></th>\n",
              "      <th></th>\n",
              "      <th></th>\n",
              "      <th></th>\n",
              "      <th></th>\n",
              "    </tr>\n",
              "  </thead>\n",
              "  <tbody>\n",
              "    <tr>\n",
              "      <th>5008804</th>\n",
              "      <td>-15</td>\n",
              "      <td>0</td>\n",
              "      <td>M</td>\n",
              "      <td>Y</td>\n",
              "      <td>Y</td>\n",
              "      <td>0</td>\n",
              "      <td>427500.0</td>\n",
              "      <td>Working</td>\n",
              "      <td>Higher education</td>\n",
              "      <td>Civil marriage</td>\n",
              "      <td>Rented apartment</td>\n",
              "      <td>-12005</td>\n",
              "      <td>-4542</td>\n",
              "      <td>1</td>\n",
              "      <td>1</td>\n",
              "      <td>0</td>\n",
              "      <td>0</td>\n",
              "      <td>NaN</td>\n",
              "      <td>2.0</td>\n",
              "    </tr>\n",
              "    <tr>\n",
              "      <th>5008805</th>\n",
              "      <td>-14</td>\n",
              "      <td>0</td>\n",
              "      <td>M</td>\n",
              "      <td>Y</td>\n",
              "      <td>Y</td>\n",
              "      <td>0</td>\n",
              "      <td>427500.0</td>\n",
              "      <td>Working</td>\n",
              "      <td>Higher education</td>\n",
              "      <td>Civil marriage</td>\n",
              "      <td>Rented apartment</td>\n",
              "      <td>-12005</td>\n",
              "      <td>-4542</td>\n",
              "      <td>1</td>\n",
              "      <td>1</td>\n",
              "      <td>0</td>\n",
              "      <td>0</td>\n",
              "      <td>NaN</td>\n",
              "      <td>2.0</td>\n",
              "    </tr>\n",
              "    <tr>\n",
              "      <th>5008806</th>\n",
              "      <td>-29</td>\n",
              "      <td>0</td>\n",
              "      <td>M</td>\n",
              "      <td>Y</td>\n",
              "      <td>Y</td>\n",
              "      <td>0</td>\n",
              "      <td>112500.0</td>\n",
              "      <td>Working</td>\n",
              "      <td>Secondary / secondary special</td>\n",
              "      <td>Married</td>\n",
              "      <td>House / apartment</td>\n",
              "      <td>-21474</td>\n",
              "      <td>-1134</td>\n",
              "      <td>1</td>\n",
              "      <td>0</td>\n",
              "      <td>0</td>\n",
              "      <td>0</td>\n",
              "      <td>Security staff</td>\n",
              "      <td>2.0</td>\n",
              "    </tr>\n",
              "    <tr>\n",
              "      <th>5008808</th>\n",
              "      <td>-4</td>\n",
              "      <td>0</td>\n",
              "      <td>F</td>\n",
              "      <td>N</td>\n",
              "      <td>Y</td>\n",
              "      <td>0</td>\n",
              "      <td>270000.0</td>\n",
              "      <td>Commercial associate</td>\n",
              "      <td>Secondary / secondary special</td>\n",
              "      <td>Single / not married</td>\n",
              "      <td>House / apartment</td>\n",
              "      <td>-19110</td>\n",
              "      <td>-3051</td>\n",
              "      <td>1</td>\n",
              "      <td>0</td>\n",
              "      <td>1</td>\n",
              "      <td>1</td>\n",
              "      <td>Sales staff</td>\n",
              "      <td>1.0</td>\n",
              "    </tr>\n",
              "    <tr>\n",
              "      <th>5008809</th>\n",
              "      <td>-26</td>\n",
              "      <td>0</td>\n",
              "      <td>F</td>\n",
              "      <td>N</td>\n",
              "      <td>Y</td>\n",
              "      <td>0</td>\n",
              "      <td>270000.0</td>\n",
              "      <td>Commercial associate</td>\n",
              "      <td>Secondary / secondary special</td>\n",
              "      <td>Single / not married</td>\n",
              "      <td>House / apartment</td>\n",
              "      <td>-19110</td>\n",
              "      <td>-3051</td>\n",
              "      <td>1</td>\n",
              "      <td>0</td>\n",
              "      <td>1</td>\n",
              "      <td>1</td>\n",
              "      <td>Sales staff</td>\n",
              "      <td>1.0</td>\n",
              "    </tr>\n",
              "  </tbody>\n",
              "</table>\n",
              "</div>"
            ],
            "text/plain": [
              "         month_begin  bad gender  ... email      occupation  family_members\n",
              "ID                                ...                                      \n",
              "5008804          -15    0      M  ...     0             NaN             2.0\n",
              "5008805          -14    0      M  ...     0             NaN             2.0\n",
              "5008806          -29    0      M  ...     0  Security staff             2.0\n",
              "5008808           -4    0      F  ...     1     Sales staff             1.0\n",
              "5008809          -26    0      F  ...     1     Sales staff             1.0\n",
              "\n",
              "[5 rows x 19 columns]"
            ]
          },
          "metadata": {
            "tags": []
          },
          "execution_count": 608
        }
      ]
    },
    {
      "cell_type": "code",
      "metadata": {
        "id": "35zVzU7EFJpc"
      },
      "source": [
        "#Create an age column\n",
        "\n",
        "credit['age'] = credit['DAYS_BIRTH'] / 365.2425\n",
        "credit['age'] = credit['age'].round(0).astype(int).abs()"
      ],
      "execution_count": null,
      "outputs": []
    },
    {
      "cell_type": "code",
      "metadata": {
        "id": "7Q_X1bOIQCLz"
      },
      "source": [
        "#Create months employed column\n",
        "\n",
        "credit['employed_months'] = credit['DAYS_EMPLOYED'] / 30\n",
        "credit['employed_months'] = credit['employed_months'].round(0).astype(int).abs()"
      ],
      "execution_count": null,
      "outputs": []
    },
    {
      "cell_type": "code",
      "metadata": {
        "id": "a9_1U0TpSjNc"
      },
      "source": [
        "credit.drop(['DAYS_BIRTH', 'DAYS_EMPLOYED', 'mobile'], axis = 1, inplace= True)"
      ],
      "execution_count": null,
      "outputs": []
    },
    {
      "cell_type": "code",
      "metadata": {
        "colab": {
          "base_uri": "https://localhost:8080/"
        },
        "id": "xlTE6ibuZuru",
        "outputId": "c4596b5b-5cbf-4321-a3d3-5a4258f56dfb"
      },
      "source": [
        "credit.dropna(inplace=True)\n",
        "credit.shape"
      ],
      "execution_count": null,
      "outputs": [
        {
          "output_type": "execute_result",
          "data": {
            "text/plain": [
              "(25134, 19)"
            ]
          },
          "metadata": {
            "tags": []
          },
          "execution_count": 612
        }
      ]
    },
    {
      "cell_type": "code",
      "metadata": {
        "id": "BoqN3uSN2sR5"
      },
      "source": [
        "X = credit\n",
        "y = credit['bad']"
      ],
      "execution_count": null,
      "outputs": []
    },
    {
      "cell_type": "code",
      "metadata": {
        "id": "2OiPHkHG2Ts3"
      },
      "source": [
        "from sklearn.model_selection import train_test_split"
      ],
      "execution_count": null,
      "outputs": []
    },
    {
      "cell_type": "code",
      "metadata": {
        "id": "7cSvrm4D2mvd"
      },
      "source": [
        "X_train, X_test, y_train, y_test = train_test_split(X, y, test_size=0.33, random_state=42)"
      ],
      "execution_count": null,
      "outputs": []
    },
    {
      "cell_type": "markdown",
      "metadata": {
        "id": "ZjRL-Ivl7f0c"
      },
      "source": [
        "## **Some Useful Functions**"
      ]
    },
    {
      "cell_type": "code",
      "metadata": {
        "id": "g12ybE37CNFp"
      },
      "source": [
        "# function to define which all features are categorical features \n",
        "\n",
        "def category_variables(df, variables, n): # n is the number of unique values below which the feature would be considered as categorical feature\n",
        "  cat_var_list = []\n",
        "  categories = []\n",
        "  for i in variables:\n",
        "    if df[i].nunique() <=n :\n",
        "      cat_var_list.append(i)\n",
        "      categories.append(df[i].nunique())\n",
        "  \n",
        "  return zip(cat_var_list,categories)"
      ],
      "execution_count": null,
      "outputs": []
    },
    {
      "cell_type": "code",
      "metadata": {
        "id": "SSQl6ZCyUPE2"
      },
      "source": [
        "def create_df(df,feat):\n",
        "    bad = df.loc[df['bad'] == 1][feat].value_counts().reindex(df[feat].unique(), fill_value=0).sort_index()\n",
        "    #print(bad)\n",
        "    good = df.loc[df['bad'] == 0][feat].value_counts().reindex(df[feat].unique(), fill_value=0).sort_index()\n",
        "    #print(good)\n",
        "    total = df[feat].value_counts().sort_index()\n",
        "    #print(total)\n",
        "    #cols = ['bad', 'good', 'total']\n",
        "    df_new = pd.concat([bad, good, total], axis = 1)\n",
        "    df_new.columns = ['bad', 'good', 'total']\n",
        "    return df_new"
      ],
      "execution_count": null,
      "outputs": []
    },
    {
      "cell_type": "code",
      "metadata": {
        "id": "D4-W9zLtiDLN"
      },
      "source": [
        "# plotting categorical variables\n",
        "\n",
        "def plotting(cr, feat):\n",
        "\n",
        "  df = create_df(cr,feat)  \n",
        "  df['perc'] = (df['bad'] / df['total']) * 100\n",
        "  \n",
        "  labels = list(df.index)\n",
        "  labels = [str(i) for i in labels]\n",
        "  bad = list(df['bad'])\n",
        "  total = list(df['total'])\n",
        "  perc = list(df['perc'])\n",
        "\n",
        "  fig, (ax1,ax2) = plt.subplots(1,2,figsize = (15,6))\n",
        "  colors = list('rgbkymc')\n",
        "  \n",
        "  rect1 = ax1.bar(labels, total, color = colors)\n",
        "  \n",
        "  for rect in rect1:\n",
        "    height = rect.get_height()\n",
        "    ax1.text(rect.get_x() + rect.get_width()/2., 1.05*height,'%d' % round(height,2), ha='center', va='bottom')\n",
        "  ax1.spines['right'].set_visible(False)\n",
        "  ax1.spines['top'].set_visible(False)\n",
        "  title1 = feat.title() + \" wise distribution of total no. of customers\"\n",
        "  ax1.set_title(title1,fontweight=\"bold\", pad = 40)\n",
        "  ax1.set_xticklabels(labels,rotation = 45, ha='right')\n",
        "\n",
        "  ax2.pie(perc, labels=labels, colors = colors, autopct='%d%%',wedgeprops={'edgecolor': 'black'})\n",
        "  title2 = feat.title() + \" wise share in bad customers\"\n",
        "  ax2.set_title(title2, fontweight=\"bold\",pad = 40)\n",
        "  \n",
        "  plt.tight_layout\n",
        "  plt.show()\n"
      ],
      "execution_count": null,
      "outputs": []
    },
    {
      "cell_type": "code",
      "metadata": {
        "id": "xzLLV36Epto3"
      },
      "source": [
        "def calc_iv(df_new,feat) :\n",
        "    df_new = create_df(df_new,feat)\n",
        "    #print(df_new)\n",
        "    df_new['dist_bad'] = df_new['bad'] / df_new['bad'].sum()\n",
        "    df_new['dist_good'] = df_new['good'] / df_new['good'].sum()\n",
        "    df_new['WOE'] = np.log(df_new['dist_good'] / df_new['dist_bad'])\n",
        "    df_new['WOE'] = np.where((df_new['WOE'] == np.inf) | (df_new['WOE'] == -np.inf), 0, df_new['WOE'])\n",
        "    df_new['IV'] = df_new['WOE'] * (df_new['dist_good'] - df_new['dist_bad'])\n",
        "    iv = df_new['IV'].sum()\n",
        "    return iv, df_new['WOE']\n"
      ],
      "execution_count": null,
      "outputs": []
    },
    {
      "cell_type": "code",
      "metadata": {
        "id": "MRrX1_KuS-o0"
      },
      "source": [
        "def plotting_big(cr, feat):\n",
        "  # Plotting string variables ie having more number of categories.\n",
        "  df = create_df(cr,feat)\n",
        "  df['perc'] = (df['bad'] / df['total'])*100\n",
        "  \n",
        "  labels = list(df.index)\n",
        "  labels = [str(i) for i in labels]\n",
        "  bad = list(df['bad'])\n",
        "  total = list(df['total'])\n",
        "  perc = list(df['perc'])\n",
        "\n",
        "  if len(labels) <= 10:\n",
        "    i = 10\n",
        "  else :\n",
        "    i = len(labels)\n",
        "  figure, (ax1,ax2) = plt.subplots(2,1,figsize = (i,10), sharex=True)\n",
        "  \n",
        "  rect1 = ax1.bar(labels,total, color = list('rgbkymc'))\n",
        "  #    Attach a text label above each bar displaying its height\n",
        "  for rect in rect1:\n",
        "    height = rect.get_height()\n",
        "    ax1.text(rect.get_x() + rect.get_width()/2., 1.05*height,'%d' % round(height,2), ha='center', va='bottom')\n",
        "\n",
        "  ax1.spines['right'].set_visible(False)\n",
        "  ax1.spines['top'].set_visible(False)\n",
        "\n",
        "  rect2 = ax2.bar(labels,perc, color = list('rgbkymc'))\n",
        "  #    Attach a text label above each bar displaying its height\n",
        "  for rect in rect2:\n",
        "    height = rect.get_height()\n",
        "    ax2.text(rect.get_x() + rect.get_width()/2., 1.05*height,'%.2f%%' % round(height,2), ha='center', va='bottom')\n",
        "\n",
        "  ax2.spines['right'].set_visible(False)\n",
        "  ax2.spines['top'].set_visible(False)\n",
        "\n",
        "  plt.xticks(rotation = 45, ha='right')\n",
        "  plt.show()"
      ],
      "execution_count": null,
      "outputs": []
    },
    {
      "cell_type": "code",
      "metadata": {
        "id": "rpWEPgWvE_pD"
      },
      "source": [
        "def plotting_cont(cr, feat, bins):\n",
        "  fig1, (axes1,axes2) = plt.subplots(nrows = 1,ncols = 2, figsize = (10,4))\n",
        "\n",
        "  sns.histplot(data = cr, x = feat , bins = bins, ax = axes1)\n",
        "  sns.boxplot(data = cr, y = feat, ax = axes2)\n",
        "\n",
        "  plt.tight_layout()\n",
        "  plt.show()"
      ],
      "execution_count": null,
      "outputs": []
    },
    {
      "cell_type": "markdown",
      "metadata": {
        "id": "dWx03YvZXnaU"
      },
      "source": [
        "\n",
        "\n",
        "### **Some EDA**"
      ]
    },
    {
      "cell_type": "code",
      "metadata": {
        "colab": {
          "base_uri": "https://localhost:8080/",
          "height": 362
        },
        "id": "bUbm1u9WEOii",
        "outputId": "a06f396f-ee7b-49e4-ff6d-b8b3529d4a25"
      },
      "source": [
        "cat_cols = pd.DataFrame(category_variables(X_train, X_train.columns, 5), columns = ['Features','categories'])\n",
        "cat_cols"
      ],
      "execution_count": null,
      "outputs": [
        {
          "output_type": "execute_result",
          "data": {
            "text/html": [
              "<div>\n",
              "<style scoped>\n",
              "    .dataframe tbody tr th:only-of-type {\n",
              "        vertical-align: middle;\n",
              "    }\n",
              "\n",
              "    .dataframe tbody tr th {\n",
              "        vertical-align: top;\n",
              "    }\n",
              "\n",
              "    .dataframe thead th {\n",
              "        text-align: right;\n",
              "    }\n",
              "</style>\n",
              "<table border=\"1\" class=\"dataframe\">\n",
              "  <thead>\n",
              "    <tr style=\"text-align: right;\">\n",
              "      <th></th>\n",
              "      <th>Features</th>\n",
              "      <th>categories</th>\n",
              "    </tr>\n",
              "  </thead>\n",
              "  <tbody>\n",
              "    <tr>\n",
              "      <th>0</th>\n",
              "      <td>bad</td>\n",
              "      <td>2</td>\n",
              "    </tr>\n",
              "    <tr>\n",
              "      <th>1</th>\n",
              "      <td>gender</td>\n",
              "      <td>2</td>\n",
              "    </tr>\n",
              "    <tr>\n",
              "      <th>2</th>\n",
              "      <td>car</td>\n",
              "      <td>2</td>\n",
              "    </tr>\n",
              "    <tr>\n",
              "      <th>3</th>\n",
              "      <td>realty</td>\n",
              "      <td>2</td>\n",
              "    </tr>\n",
              "    <tr>\n",
              "      <th>4</th>\n",
              "      <td>income_type</td>\n",
              "      <td>5</td>\n",
              "    </tr>\n",
              "    <tr>\n",
              "      <th>5</th>\n",
              "      <td>education</td>\n",
              "      <td>5</td>\n",
              "    </tr>\n",
              "    <tr>\n",
              "      <th>6</th>\n",
              "      <td>family_status</td>\n",
              "      <td>5</td>\n",
              "    </tr>\n",
              "    <tr>\n",
              "      <th>7</th>\n",
              "      <td>work_phone</td>\n",
              "      <td>2</td>\n",
              "    </tr>\n",
              "    <tr>\n",
              "      <th>8</th>\n",
              "      <td>phone</td>\n",
              "      <td>2</td>\n",
              "    </tr>\n",
              "    <tr>\n",
              "      <th>9</th>\n",
              "      <td>email</td>\n",
              "      <td>2</td>\n",
              "    </tr>\n",
              "  </tbody>\n",
              "</table>\n",
              "</div>"
            ],
            "text/plain": [
              "        Features  categories\n",
              "0            bad           2\n",
              "1         gender           2\n",
              "2            car           2\n",
              "3         realty           2\n",
              "4    income_type           5\n",
              "5      education           5\n",
              "6  family_status           5\n",
              "7     work_phone           2\n",
              "8          phone           2\n",
              "9          email           2"
            ]
          },
          "metadata": {
            "tags": []
          },
          "execution_count": 622
        }
      ]
    },
    {
      "cell_type": "markdown",
      "metadata": {
        "id": "XNolBYexZcCf"
      },
      "source": [
        "### Now let us start exploring each columns and do feature engineering wherever required."
      ]
    },
    {
      "cell_type": "code",
      "metadata": {
        "id": "qoKzIezJW66H"
      },
      "source": [
        "IV_dict = {'Feature': \"Value\"}"
      ],
      "execution_count": null,
      "outputs": []
    },
    {
      "cell_type": "markdown",
      "metadata": {
        "id": "eIQyf7fZvG2r"
      },
      "source": [
        "## ***1. Gender***"
      ]
    },
    {
      "cell_type": "code",
      "metadata": {
        "colab": {
          "base_uri": "https://localhost:8080/",
          "height": 427
        },
        "id": "nbWh538NnnIT",
        "outputId": "9c3b461f-b823-4bad-f094-d85cc9fd464c"
      },
      "source": [
        "plotting(X_train,'gender')"
      ],
      "execution_count": null,
      "outputs": [
        {
          "output_type": "display_data",
          "data": {
            "image/png": "[encoded data removed]",
            "text/plain": [
              "<Figure size 1080x432 with 2 Axes>"
            ]
          },
          "metadata": {
            "tags": [],
            "needs_background": "light"
          }
        }
      ]
    },
    {
      "cell_type": "code",
      "metadata": {
        "id": "7DJRPnWqJdx9"
      },
      "source": [
        "gender_iv, gender_WOE = calc_iv(X_train, 'gender')"
      ],
      "execution_count": null,
      "outputs": []
    },
    {
      "cell_type": "code",
      "metadata": {
        "colab": {
          "base_uri": "https://localhost:8080/"
        },
        "id": "MLdaWrNZJmQw",
        "outputId": "f78429b1-41b3-4136-e5bf-323dca725840"
      },
      "source": [
        "gender_WOE"
      ],
      "execution_count": null,
      "outputs": [
        {
          "output_type": "execute_result",
          "data": {
            "text/plain": [
              "F    0.105038\n",
              "M   -0.150813\n",
              "Name: WOE, dtype: float64"
            ]
          },
          "metadata": {
            "tags": []
          },
          "execution_count": 626
        }
      ]
    },
    {
      "cell_type": "code",
      "metadata": {
        "colab": {
          "base_uri": "https://localhost:8080/"
        },
        "id": "DiKSTAtDJmNI",
        "outputId": "3fbd3e5d-0e60-4ddb-f6d8-3fa7090432d3"
      },
      "source": [
        "gender_iv"
      ],
      "execution_count": null,
      "outputs": [
        {
          "output_type": "execute_result",
          "data": {
            "text/plain": [
              "0.015820277332501857"
            ]
          },
          "metadata": {
            "tags": []
          },
          "execution_count": 627
        }
      ]
    },
    {
      "cell_type": "code",
      "metadata": {
        "id": "oqQjI6V3XJeq"
      },
      "source": [
        "IV_dict['gender'] = gender_iv"
      ],
      "execution_count": null,
      "outputs": []
    },
    {
      "cell_type": "code",
      "metadata": {
        "id": "3BkSjE8QWl_8"
      },
      "source": [
        ""
      ],
      "execution_count": null,
      "outputs": []
    },
    {
      "cell_type": "markdown",
      "metadata": {
        "id": "q1c3LXER9e3j"
      },
      "source": [
        "## ***2. Car***"
      ]
    },
    {
      "cell_type": "code",
      "metadata": {
        "colab": {
          "base_uri": "https://localhost:8080/",
          "height": 426
        },
        "id": "GtcTh9Ol9eFr",
        "outputId": "79d1a909-a5f5-4042-d549-cf74fe03ab6c"
      },
      "source": [
        "plotting(X_train,'car')"
      ],
      "execution_count": null,
      "outputs": [
        {
          "output_type": "display_data",
          "data": {
            "image/png": "[encoded data removed]",
            "text/plain": [
              "<Figure size 1080x432 with 2 Axes>"
            ]
          },
          "metadata": {
            "tags": [],
            "needs_background": "light"
          }
        }
      ]
    },
    {
      "cell_type": "code",
      "metadata": {
        "colab": {
          "base_uri": "https://localhost:8080/"
        },
        "id": "pCo98t8aJ5_P",
        "outputId": "09527de5-a201-462b-920b-a67e8f8415bb"
      },
      "source": [
        "car_IV, car_WOE = calc_iv(X_train, 'car')\n",
        "print(car_WOE)\n",
        "print(car_IV)"
      ],
      "execution_count": null,
      "outputs": [
        {
          "output_type": "stream",
          "text": [
            "N    0.019786\n",
            "Y   -0.026725\n",
            "Name: WOE, dtype: float64\n",
            "0.0005287555757174419\n"
          ],
          "name": "stdout"
        }
      ]
    },
    {
      "cell_type": "code",
      "metadata": {
        "id": "-Y_5qLo2Xbtj"
      },
      "source": [
        "IV_dict['car'] = car_IV"
      ],
      "execution_count": null,
      "outputs": []
    },
    {
      "cell_type": "markdown",
      "metadata": {
        "id": "bhyUW1FW9fj8"
      },
      "source": [
        "## ***3. Realty***"
      ]
    },
    {
      "cell_type": "code",
      "metadata": {
        "colab": {
          "base_uri": "https://localhost:8080/",
          "height": 426
        },
        "id": "0pxcm7kU9eBA",
        "outputId": "c62a546d-6f34-4b6b-decc-724068e86dad"
      },
      "source": [
        "plotting(X_train,'realty')"
      ],
      "execution_count": null,
      "outputs": [
        {
          "output_type": "display_data",
          "data": {
            "image/png": "[encoded data removed]",
            "text/plain": [
              "<Figure size 1080x432 with 2 Axes>"
            ]
          },
          "metadata": {
            "tags": [],
            "needs_background": "light"
          }
        }
      ]
    },
    {
      "cell_type": "code",
      "metadata": {
        "colab": {
          "base_uri": "https://localhost:8080/"
        },
        "id": "BKfVJKvzKM2D",
        "outputId": "37e2043e-03c3-4a98-ae03-82872bef006d"
      },
      "source": [
        "realty_IV, realty_WOE = calc_iv(X_train, 'realty')\n",
        "print(realty_WOE)\n",
        "print(realty_IV)"
      ],
      "execution_count": null,
      "outputs": [
        {
          "output_type": "stream",
          "text": [
            "N   -0.262394\n",
            "Y    0.172178\n",
            "Name: WOE, dtype: float64\n",
            "0.045009135432773656\n"
          ],
          "name": "stdout"
        }
      ]
    },
    {
      "cell_type": "code",
      "metadata": {
        "id": "agz4m0wlXkbf"
      },
      "source": [
        "IV_dict['realty'] = realty_IV"
      ],
      "execution_count": null,
      "outputs": []
    },
    {
      "cell_type": "markdown",
      "metadata": {
        "id": "wvmgISzy9gSz"
      },
      "source": [
        "## ***4. Income Type***"
      ]
    },
    {
      "cell_type": "code",
      "metadata": {
        "colab": {
          "base_uri": "https://localhost:8080/",
          "height": 499
        },
        "id": "5NvnKtHi9d9B",
        "outputId": "ba7ce061-e675-4cea-93f0-754171de9203"
      },
      "source": [
        "plotting(X_train,'income_type')"
      ],
      "execution_count": null,
      "outputs": [
        {
          "output_type": "display_data",
          "data": {
            "image/png": "[encoded data removed]",
            "text/plain": [
              "<Figure size 1080x432 with 2 Axes>"
            ]
          },
          "metadata": {
            "tags": [],
            "needs_background": "light"
          }
        }
      ]
    },
    {
      "cell_type": "code",
      "metadata": {
        "colab": {
          "base_uri": "https://localhost:8080/"
        },
        "id": "Y1JDOVE-KXpP",
        "outputId": "c6984b77-043d-4898-884c-1f93f82de4ac"
      },
      "source": [
        "inc_type_IV, inc_type_WOE = calc_iv(X_train, 'income_type')\n",
        "print(inc_type_WOE)\n",
        "print(inc_type_IV)"
      ],
      "execution_count": null,
      "outputs": [
        {
          "output_type": "stream",
          "text": [
            "Commercial associate    0.091561\n",
            "Pensioner               0.000000\n",
            "State servant           0.389565\n",
            "Student                 0.000000\n",
            "Working                -0.039421\n",
            "Name: WOE, dtype: float64\n",
            "0.015677329338646247\n"
          ],
          "name": "stdout"
        }
      ]
    },
    {
      "cell_type": "code",
      "metadata": {
        "id": "87mxJG2SVAv1"
      },
      "source": [
        "X_train['income_type_bins'] = X_train['income_type']\n",
        "m = X_train['income_type_bins'] != 'State servant'\n",
        "X_train.loc[m, 'income_type_bins'] = 'Others' "
      ],
      "execution_count": null,
      "outputs": []
    },
    {
      "cell_type": "code",
      "metadata": {
        "id": "FTOb3sHIQO3z"
      },
      "source": [
        "X_test['income_type_bins'] = X_test['income_type']\n",
        "m = X_test['income_type_bins'] != 'State servant'\n",
        "X_test.loc[m, 'income_type_bins'] = 'Others' "
      ],
      "execution_count": null,
      "outputs": []
    },
    {
      "cell_type": "code",
      "metadata": {
        "colab": {
          "base_uri": "https://localhost:8080/"
        },
        "id": "-tF1Fvn3WGHG",
        "outputId": "d3096262-6c40-4493-bdae-4bf8d3cf32b2"
      },
      "source": [
        "inc_type_IV, inc_type_WOE = calc_iv(X_train, 'income_type_bins')\n",
        "print(inc_type_WOE)\n",
        "print(inc_type_IV)"
      ],
      "execution_count": null,
      "outputs": [
        {
          "output_type": "stream",
          "text": [
            "Others          -0.034883\n",
            "State servant    0.389565\n",
            "Name: WOE, dtype: float64\n",
            "0.01357400592373291\n"
          ],
          "name": "stdout"
        }
      ]
    },
    {
      "cell_type": "code",
      "metadata": {
        "id": "O4zu72owXsMI"
      },
      "source": [
        "IV_dict['income_type'] = inc_type_IV"
      ],
      "execution_count": null,
      "outputs": []
    },
    {
      "cell_type": "markdown",
      "metadata": {
        "id": "CTPvW4Y49g1C"
      },
      "source": [
        "## ***5. Education***"
      ]
    },
    {
      "cell_type": "code",
      "metadata": {
        "colab": {
          "base_uri": "https://localhost:8080/",
          "height": 529
        },
        "id": "VZVtJHob9d5M",
        "outputId": "1263091d-aa12-4103-ebe0-20c459afa26d"
      },
      "source": [
        "plotting(X_train,'education')"
      ],
      "execution_count": null,
      "outputs": [
        {
          "output_type": "display_data",
          "data": {
            "image/png": "[encoded data removed]",
            "text/plain": [
              "<Figure size 1080x432 with 2 Axes>"
            ]
          },
          "metadata": {
            "tags": [],
            "needs_background": "light"
          }
        }
      ]
    },
    {
      "cell_type": "code",
      "metadata": {
        "colab": {
          "base_uri": "https://localhost:8080/"
        },
        "id": "xtyh-zjuXz5L",
        "outputId": "57a65d87-b7a5-4216-ded3-6f7e1d4598f2"
      },
      "source": [
        "education_IV, education_WOE = calc_iv(X_train, 'education')\n",
        "print(education_WOE)\n",
        "print(education_IV)"
      ],
      "execution_count": null,
      "outputs": [
        {
          "output_type": "stream",
          "text": [
            "Academic degree                  0.000000\n",
            "Higher education                -0.012880\n",
            "Incomplete higher               -0.146322\n",
            "Lower secondary                 -1.065026\n",
            "Secondary / secondary special    0.035707\n",
            "Name: WOE, dtype: float64\n",
            "0.016597745773306697\n"
          ],
          "name": "stdout"
        }
      ]
    },
    {
      "cell_type": "code",
      "metadata": {
        "id": "MjG0n-3PYY2u"
      },
      "source": [
        "IV_dict['education'] = education_IV"
      ],
      "execution_count": null,
      "outputs": []
    },
    {
      "cell_type": "markdown",
      "metadata": {
        "id": "1nK24weL9h8i"
      },
      "source": [
        "## ***6. Family Status***"
      ]
    },
    {
      "cell_type": "code",
      "metadata": {
        "colab": {
          "base_uri": "https://localhost:8080/",
          "height": 491
        },
        "id": "-1uH7LmN9d0c",
        "outputId": "09baca7f-cbc8-4d01-b196-b06c61b2a0b8"
      },
      "source": [
        "plotting(X_train,'family_status')"
      ],
      "execution_count": null,
      "outputs": [
        {
          "output_type": "display_data",
          "data": {
            "image/png": "[encoded data removed]",
            "text/plain": [
              "<Figure size 1080x432 with 2 Axes>"
            ]
          },
          "metadata": {
            "tags": [],
            "needs_background": "light"
          }
        }
      ]
    },
    {
      "cell_type": "code",
      "metadata": {
        "colab": {
          "base_uri": "https://localhost:8080/"
        },
        "id": "Ffi2rUbPYgfU",
        "outputId": "74616484-7e6e-4458-82e2-34ed70796469"
      },
      "source": [
        "family_status_IV, family_status_WOE = calc_iv(X_train, 'family_status')\n",
        "print(family_status_WOE)\n",
        "print(family_status_IV)"
      ],
      "execution_count": null,
      "outputs": [
        {
          "output_type": "stream",
          "text": [
            "Civil marriage          0.090536\n",
            "Married                 0.049067\n",
            "Separated               0.330523\n",
            "Single / not married   -0.261523\n",
            "Widow                  -0.518917\n",
            "Name: WOE, dtype: float64\n",
            "0.02679821043767111\n"
          ],
          "name": "stdout"
        }
      ]
    },
    {
      "cell_type": "code",
      "metadata": {
        "id": "6FnRWY09Yw4T"
      },
      "source": [
        "IV_dict['family_status'] = family_status_IV"
      ],
      "execution_count": null,
      "outputs": []
    },
    {
      "cell_type": "markdown",
      "metadata": {
        "id": "XMeHiVxY9iwK"
      },
      "source": [
        "## ***7. Work Phone***"
      ]
    },
    {
      "cell_type": "code",
      "metadata": {
        "colab": {
          "base_uri": "https://localhost:8080/",
          "height": 426
        },
        "id": "NdEFdFf09dk3",
        "outputId": "6c0406a7-833c-4af2-f7ab-41ae8f4a69e4"
      },
      "source": [
        "plotting(X_train,'work_phone')"
      ],
      "execution_count": null,
      "outputs": [
        {
          "output_type": "display_data",
          "data": {
            "image/png": "[encoded data removed]",
            "text/plain": [
              "<Figure size 1080x432 with 2 Axes>"
            ]
          },
          "metadata": {
            "tags": [],
            "needs_background": "light"
          }
        }
      ]
    },
    {
      "cell_type": "code",
      "metadata": {
        "colab": {
          "base_uri": "https://localhost:8080/"
        },
        "id": "qKt2b6yVY2xI",
        "outputId": "20b8f86e-3266-4188-f359-0ecdf776a4d7"
      },
      "source": [
        "work_phone_IV, work_phone_WOE = calc_iv(X_train, 'work_phone')\n",
        "print(work_phone_WOE)\n",
        "print(work_phone_IV)"
      ],
      "execution_count": null,
      "outputs": [
        {
          "output_type": "stream",
          "text": [
            "0    0.035088\n",
            "1   -0.086850\n",
            "Name: WOE, dtype: float64\n",
            "0.003046598589388771\n"
          ],
          "name": "stdout"
        }
      ]
    },
    {
      "cell_type": "code",
      "metadata": {
        "id": "0hTHa2aiZAYQ"
      },
      "source": [
        "IV_dict['work_phone'] = work_phone_IV"
      ],
      "execution_count": null,
      "outputs": []
    },
    {
      "cell_type": "markdown",
      "metadata": {
        "id": "grmHtzlSjWAQ"
      },
      "source": [
        "## ***8. Phone***"
      ]
    },
    {
      "cell_type": "code",
      "metadata": {
        "colab": {
          "base_uri": "https://localhost:8080/",
          "height": 426
        },
        "id": "SHzBkjqhjYt8",
        "outputId": "270ebf4d-94e1-46a0-b841-4dbf69adffb3"
      },
      "source": [
        "plotting(X_train,'phone')"
      ],
      "execution_count": null,
      "outputs": [
        {
          "output_type": "display_data",
          "data": {
            "image/png": "[encoded data removed]",
            "text/plain": [
              "<Figure size 1080x432 with 2 Axes>"
            ]
          },
          "metadata": {
            "tags": [],
            "needs_background": "light"
          }
        }
      ]
    },
    {
      "cell_type": "code",
      "metadata": {
        "colab": {
          "base_uri": "https://localhost:8080/"
        },
        "id": "2fE8K2NuZHJ2",
        "outputId": "b0c3dccc-65b5-442a-de63-dab59011eacd"
      },
      "source": [
        "phone_IV, phone_WOE = calc_iv(X_train, 'phone')\n",
        "print(phone_WOE)\n",
        "print(phone_IV)"
      ],
      "execution_count": null,
      "outputs": [
        {
          "output_type": "stream",
          "text": [
            "0    0.009764\n",
            "1   -0.023120\n",
            "Name: WOE, dtype: float64\n",
            "0.00022573501397385053\n"
          ],
          "name": "stdout"
        }
      ]
    },
    {
      "cell_type": "code",
      "metadata": {
        "id": "6B6wEI91ZPV2"
      },
      "source": [
        "IV_dict['phone'] = phone_IV"
      ],
      "execution_count": null,
      "outputs": []
    },
    {
      "cell_type": "markdown",
      "metadata": {
        "id": "mkSRlCqFjZWM"
      },
      "source": [
        "## ***9. Email***"
      ]
    },
    {
      "cell_type": "code",
      "metadata": {
        "colab": {
          "base_uri": "https://localhost:8080/",
          "height": 426
        },
        "id": "G4OeQDqO-nJ5",
        "outputId": "03e6b2d4-d9b5-446d-8286-844c1cb5f8ea"
      },
      "source": [
        "plotting(X_train,'email')"
      ],
      "execution_count": null,
      "outputs": [
        {
          "output_type": "display_data",
          "data": {
            "image/png": "[encoded data removed]",
            "text/plain": [
              "<Figure size 1080x432 with 2 Axes>"
            ]
          },
          "metadata": {
            "tags": [],
            "needs_background": "light"
          }
        }
      ]
    },
    {
      "cell_type": "code",
      "metadata": {
        "colab": {
          "base_uri": "https://localhost:8080/"
        },
        "id": "6kQ0X2onZVY0",
        "outputId": "0cb6163c-d266-4d94-86f3-a3405c62a5e1"
      },
      "source": [
        "email_IV, email_WOE = calc_iv(X_train, 'email')\n",
        "print(email_WOE)\n",
        "print(email_IV)"
      ],
      "execution_count": null,
      "outputs": [
        {
          "output_type": "stream",
          "text": [
            "0    0.008211\n",
            "1   -0.069378\n",
            "Name: WOE, dtype: float64\n",
            "0.0005696616136996426\n"
          ],
          "name": "stdout"
        }
      ]
    },
    {
      "cell_type": "code",
      "metadata": {
        "id": "7b-LFUqkZdCl"
      },
      "source": [
        "IV_dict['email'] = email_IV"
      ],
      "execution_count": null,
      "outputs": []
    },
    {
      "cell_type": "markdown",
      "metadata": {
        "id": "K55QkrBWZwdZ"
      },
      "source": [
        "## ***10. Occupation***"
      ]
    },
    {
      "cell_type": "code",
      "metadata": {
        "colab": {
          "base_uri": "https://localhost:8080/",
          "height": 673
        },
        "id": "8tpG_iBDjmTM",
        "outputId": "4cf5ab49-4598-4e38-b704-ab9698825a91"
      },
      "source": [
        "plotting_big(X_train,'occupation')"
      ],
      "execution_count": null,
      "outputs": [
        {
          "output_type": "display_data",
          "data": {
            "image/png": "[encoded data removed]",
            "text/plain": [
              "<Figure size 1296x720 with 2 Axes>"
            ]
          },
          "metadata": {
            "tags": [],
            "needs_background": "light"
          }
        }
      ]
    },
    {
      "cell_type": "markdown",
      "metadata": {
        "id": "crgClERHRhIZ"
      },
      "source": [
        "Observations\n",
        "- Laborers category has the highest no. of credit card takers with one of the lowest defaulting rate\n",
        "- None of the realty agents are bad customers\n",
        "- Core staff also seems to be one of the category with highest no. of bad customers."
      ]
    },
    {
      "cell_type": "code",
      "metadata": {
        "colab": {
          "base_uri": "https://localhost:8080/"
        },
        "id": "zAzfK1z6Zo_0",
        "outputId": "ac23cd0c-2a3f-47a6-c6d0-93e79b3a8fd1"
      },
      "source": [
        "occupation_IV, occupation_WOE = calc_iv(X_train, 'occupation')\n",
        "print(occupation_WOE.sort_values())\n",
        "print(occupation_IV)"
      ],
      "execution_count": null,
      "outputs": [
        {
          "output_type": "stream",
          "text": [
            "IT staff                -1.151286\n",
            "Low-skill Laborers      -0.942296\n",
            "Drivers                 -0.379463\n",
            "High skill tech staff   -0.305644\n",
            "Secretaries             -0.177237\n",
            "Core staff              -0.163304\n",
            "Accountants             -0.082545\n",
            "Waiters/barmen staff    -0.008614\n",
            "Realty agents            0.000000\n",
            "Laborers                 0.021358\n",
            "HR staff                 0.025288\n",
            "Security staff           0.112993\n",
            "Sales staff              0.144812\n",
            "Cleaning staff           0.199241\n",
            "Managers                 0.276246\n",
            "Medicine staff           0.526063\n",
            "Private service staff    0.671518\n",
            "Cooking staff            0.912264\n",
            "Name: WOE, dtype: float64\n",
            "0.08244698235652732\n"
          ],
          "name": "stdout"
        }
      ]
    },
    {
      "cell_type": "code",
      "metadata": {
        "colab": {
          "base_uri": "https://localhost:8080/"
        },
        "id": "tBX_sgipcJ4v",
        "outputId": "68913199-835f-49fa-f006-3ecd061d2aca"
      },
      "source": [
        "X_train['occupation'].value_counts(normalize = True)"
      ],
      "execution_count": null,
      "outputs": [
        {
          "output_type": "execute_result",
          "data": {
            "text/plain": [
              "Laborers                 0.245383\n",
              "Core staff               0.144486\n",
              "Sales staff              0.138547\n",
              "Managers                 0.120613\n",
              "Drivers                  0.085278\n",
              "High skill tech staff    0.054991\n",
              "Accountants              0.048875\n",
              "Medicine staff           0.047509\n",
              "Cooking staff            0.026130\n",
              "Security staff           0.023695\n",
              "Cleaning staff           0.021498\n",
              "Private service staff    0.013718\n",
              "Low-skill Laborers       0.007067\n",
              "Waiters/barmen staff     0.007008\n",
              "Secretaries              0.005939\n",
              "HR staff                 0.003623\n",
              "Realty agents            0.003326\n",
              "IT staff                 0.002316\n",
              "Name: occupation, dtype: float64"
            ]
          },
          "metadata": {
            "tags": []
          },
          "execution_count": 658
        }
      ]
    },
    {
      "cell_type": "code",
      "metadata": {
        "id": "yD7hbSeNf2K6"
      },
      "source": [
        "X_train['occupation_bins'] = X_train['occupation']\n",
        "m = X_train['occupation_bins'].isin(['Cooking staff','Security staff','Cleaning staff','Private service staff','Low-skill Laborers','Waiters/barmen staff','Secretaries','HR staff','Realty agents','IT staff'])\n",
        "X_train.loc[m,'occupation_bins'] = 'Other Occupations' "
      ],
      "execution_count": null,
      "outputs": []
    },
    {
      "cell_type": "code",
      "metadata": {
        "id": "bKjMWCHYQitk"
      },
      "source": [
        "X_test['occupation_bins'] = X_test['occupation']\n",
        "m = X_test['occupation_bins'].isin(['Cooking staff','Security staff','Cleaning staff','Private service staff','Low-skill Laborers','Waiters/barmen staff','Secretaries','HR staff','Realty agents','IT staff'])\n",
        "X_test.loc[m,'occupation_bins'] = 'Other Occupations' "
      ],
      "execution_count": null,
      "outputs": []
    },
    {
      "cell_type": "code",
      "metadata": {
        "colab": {
          "base_uri": "https://localhost:8080/"
        },
        "id": "5WKUl2vZgt5k",
        "outputId": "0ab061b7-f033-4ad2-b28c-0432f8f03826"
      },
      "source": [
        "occupation_IV, occupation_WOE = calc_iv(X_train, 'occupation_bins')\n",
        "print(occupation_WOE.sort_values())\n",
        "print(occupation_IV)"
      ],
      "execution_count": null,
      "outputs": [
        {
          "output_type": "stream",
          "text": [
            "Drivers                 -0.379463\n",
            "High skill tech staff   -0.305644\n",
            "Core staff              -0.163304\n",
            "Accountants             -0.082545\n",
            "Laborers                 0.021358\n",
            "Sales staff              0.144812\n",
            "Other Occupations        0.146768\n",
            "Managers                 0.276246\n",
            "Medicine staff           0.526063\n",
            "Name: WOE, dtype: float64\n",
            "0.048798882392810175\n"
          ],
          "name": "stdout"
        }
      ]
    },
    {
      "cell_type": "code",
      "metadata": {
        "id": "H17thW0Rg3x7"
      },
      "source": [
        "IV_dict['occupation'] = occupation_IV"
      ],
      "execution_count": null,
      "outputs": []
    },
    {
      "cell_type": "markdown",
      "metadata": {
        "id": "n37YPgmMj-sX"
      },
      "source": [
        "## ***11. House Type*** "
      ]
    },
    {
      "cell_type": "code",
      "metadata": {
        "id": "NMC7qEmwjjG_",
        "colab": {
          "base_uri": "https://localhost:8080/",
          "height": 672
        },
        "outputId": "027f9881-2371-490e-d503-90f4ba5ea68b"
      },
      "source": [
        "plotting_big(X_train, 'house_type')"
      ],
      "execution_count": null,
      "outputs": [
        {
          "output_type": "display_data",
          "data": {
            "image/png": "[encoded data removed]",
            "text/plain": [
              "<Figure size 720x720 with 2 Axes>"
            ]
          },
          "metadata": {
            "tags": [],
            "needs_background": "light"
          }
        }
      ]
    },
    {
      "cell_type": "code",
      "metadata": {
        "colab": {
          "base_uri": "https://localhost:8080/"
        },
        "id": "t9KjfY7tAGTH",
        "outputId": "aa3d358d-8c0c-48fd-c1c3-f2d28e42a385"
      },
      "source": [
        "X_train['house_type'].value_counts(normalize = True)"
      ],
      "execution_count": null,
      "outputs": [
        {
          "output_type": "execute_result",
          "data": {
            "text/plain": [
              "House / apartment      0.880694\n",
              "With parents           0.055407\n",
              "Municipal apartment    0.031118\n",
              "Rented apartment       0.018350\n",
              "Office apartment       0.008255\n",
              "Co-op apartment        0.006176\n",
              "Name: house_type, dtype: float64"
            ]
          },
          "metadata": {
            "tags": []
          },
          "execution_count": 664
        }
      ]
    },
    {
      "cell_type": "code",
      "metadata": {
        "id": "B32z-c1-AzJy"
      },
      "source": [
        "lst = ['Municipal apartment','Rented apartment','Office apartment', 'Co-op apartment']\n",
        "m = X_train['house_type'].isin(lst)\n",
        "X_train.loc[m,'house_type'] = 'Other Housing'"
      ],
      "execution_count": null,
      "outputs": []
    },
    {
      "cell_type": "code",
      "metadata": {
        "id": "Qakgx7mAQs1L"
      },
      "source": [
        "m = X_test['house_type'].isin(lst)\n",
        "X_test.loc[m,'house_type'] = 'Other Housing'"
      ],
      "execution_count": null,
      "outputs": []
    },
    {
      "cell_type": "code",
      "metadata": {
        "colab": {
          "base_uri": "https://localhost:8080/"
        },
        "id": "IcKMN4pCBdGP",
        "outputId": "25d9b68d-d6be-4eb7-b86c-26c486461f41"
      },
      "source": [
        "X_train['house_type'].value_counts(normalize = True)"
      ],
      "execution_count": null,
      "outputs": [
        {
          "output_type": "execute_result",
          "data": {
            "text/plain": [
              "House / apartment    0.880694\n",
              "Other Housing        0.063899\n",
              "With parents         0.055407\n",
              "Name: house_type, dtype: float64"
            ]
          },
          "metadata": {
            "tags": []
          },
          "execution_count": 667
        }
      ]
    },
    {
      "cell_type": "code",
      "metadata": {
        "colab": {
          "base_uri": "https://localhost:8080/"
        },
        "id": "DoCI0qIphBG9",
        "outputId": "1dc51ba2-ddb5-450f-a7f0-7a0a7fc71216"
      },
      "source": [
        "house_type_IV, house_type_WOE = calc_iv(X_train, 'house_type')\n",
        "print(house_type_WOE.sort_values())\n",
        "print(house_type_IV)"
      ],
      "execution_count": null,
      "outputs": [
        {
          "output_type": "stream",
          "text": [
            "House / apartment   -0.011217\n",
            "With parents         0.045090\n",
            "Other Housing        0.124379\n",
            "Name: WOE, dtype: float64\n",
            "0.0011529957213797602\n"
          ],
          "name": "stdout"
        }
      ]
    },
    {
      "cell_type": "code",
      "metadata": {
        "id": "momf3mrdhTY7"
      },
      "source": [
        "IV_dict['house_type'] = house_type_IV"
      ],
      "execution_count": null,
      "outputs": []
    },
    {
      "cell_type": "markdown",
      "metadata": {
        "id": "O9nNvcrvpbi5"
      },
      "source": [
        "## ***12. Children***"
      ]
    },
    {
      "cell_type": "code",
      "metadata": {
        "colab": {
          "base_uri": "https://localhost:8080/",
          "height": 608
        },
        "id": "Y8hgHr6Dj7vO",
        "outputId": "3dda2bcc-fae8-4b3f-a309-15268fa2d035"
      },
      "source": [
        "plotting_big(X_train, 'children')"
      ],
      "execution_count": null,
      "outputs": [
        {
          "output_type": "display_data",
          "data": {
            "image/png": "[encoded data removed]",
            "text/plain": [
              "<Figure size 720x720 with 2 Axes>"
            ]
          },
          "metadata": {
            "tags": [],
            "needs_background": "light"
          }
        }
      ]
    },
    {
      "cell_type": "code",
      "metadata": {
        "colab": {
          "base_uri": "https://localhost:8080/"
        },
        "id": "iQj5AwXK-7rr",
        "outputId": "63ac7307-eb58-4979-aeff-9719b036c2cd"
      },
      "source": [
        "X_train['children'].value_counts(normalize = True)"
      ],
      "execution_count": null,
      "outputs": [
        {
          "output_type": "execute_result",
          "data": {
            "text/plain": [
              "0     0.632698\n",
              "1     0.244136\n",
              "2     0.107489\n",
              "3     0.012649\n",
              "4     0.002197\n",
              "5     0.000594\n",
              "14    0.000119\n",
              "7     0.000059\n",
              "19    0.000059\n",
              "Name: children, dtype: float64"
            ]
          },
          "metadata": {
            "tags": []
          },
          "execution_count": 671
        }
      ]
    },
    {
      "cell_type": "markdown",
      "metadata": {
        "id": "a2oZkYjU_GHA"
      },
      "source": [
        "Here we need club 2 and more than 2 children together inorder to make the bin having more than 5% values."
      ]
    },
    {
      "cell_type": "code",
      "metadata": {
        "id": "ppTlrI2G_jUd"
      },
      "source": [
        "X_train['children_bins'] = X_train['children']\n",
        "m = X_train['children_bins'] >=2\n",
        "X_train.loc[m, 'children_bins'] = '2 plus'\n",
        "X_train['children_bins'] = X_train['children_bins'].astype(str)"
      ],
      "execution_count": null,
      "outputs": []
    },
    {
      "cell_type": "code",
      "metadata": {
        "id": "_Bs1ZbarRNBe"
      },
      "source": [
        "X_test['children_bins'] = X_test['children']\n",
        "m = X_test['children_bins'] >=2\n",
        "X_test.loc[m, 'children_bins'] = '2 plus'\n",
        "X_test['children_bins'] = X_test['children_bins'].astype(str)"
      ],
      "execution_count": null,
      "outputs": []
    },
    {
      "cell_type": "code",
      "metadata": {
        "colab": {
          "base_uri": "https://localhost:8080/"
        },
        "id": "MNPGgfs3BhIo",
        "outputId": "1822c2d9-5766-4021-c11f-fc96ce80de97"
      },
      "source": [
        "X_train['children_bins'].value_counts(normalize = True)"
      ],
      "execution_count": null,
      "outputs": [
        {
          "output_type": "execute_result",
          "data": {
            "text/plain": [
              "0         0.632698\n",
              "1         0.244136\n",
              "2 plus    0.123166\n",
              "Name: children_bins, dtype: float64"
            ]
          },
          "metadata": {
            "tags": []
          },
          "execution_count": 674
        }
      ]
    },
    {
      "cell_type": "code",
      "metadata": {
        "colab": {
          "base_uri": "https://localhost:8080/"
        },
        "id": "lFRifW3jhbFN",
        "outputId": "af5476db-728e-4878-c168-92781a0b94bd"
      },
      "source": [
        "children_IV, children_WOE = calc_iv(X_train, 'children_bins')\n",
        "print(children_WOE)\n",
        "print(children_IV)"
      ],
      "execution_count": null,
      "outputs": [
        {
          "output_type": "stream",
          "text": [
            "0        -0.022178\n",
            "1         0.093787\n",
            "2 plus   -0.060741\n",
            "Name: WOE, dtype: float64\n",
            "0.002835447277073362\n"
          ],
          "name": "stdout"
        }
      ]
    },
    {
      "cell_type": "code",
      "metadata": {
        "id": "wtSOKTHik5sO"
      },
      "source": [
        "IV_dict['children'] = children_IV"
      ],
      "execution_count": null,
      "outputs": []
    },
    {
      "cell_type": "markdown",
      "metadata": {
        "id": "RGic7tNlpqOW"
      },
      "source": [
        "## ***13. Family Members***"
      ]
    },
    {
      "cell_type": "code",
      "metadata": {
        "colab": {
          "base_uri": "https://localhost:8080/",
          "height": 614
        },
        "id": "QjERG8m5pOrJ",
        "outputId": "a2981657-5930-4bc9-940e-746bac1d0bbb"
      },
      "source": [
        "plotting_big(X_train, 'family_members')"
      ],
      "execution_count": null,
      "outputs": [
        {
          "output_type": "display_data",
          "data": {
            "image/png": "[encoded data removed]",
            "text/plain": [
              "<Figure size 720x720 with 2 Axes>"
            ]
          },
          "metadata": {
            "tags": [],
            "needs_background": "light"
          }
        }
      ]
    },
    {
      "cell_type": "code",
      "metadata": {
        "colab": {
          "base_uri": "https://localhost:8080/"
        },
        "id": "brx5Xubnz_Ub",
        "outputId": "089969e2-167b-4f9e-c4a3-7dc833c776b4"
      },
      "source": [
        "X_train['family_members'].value_counts(normalize = True)"
      ],
      "execution_count": null,
      "outputs": [
        {
          "output_type": "execute_result",
          "data": {
            "text/plain": [
              "2.0     0.503118\n",
              "3.0     0.207970\n",
              "1.0     0.171982\n",
              "4.0     0.101550\n",
              "5.0     0.012590\n",
              "6.0     0.001960\n",
              "7.0     0.000594\n",
              "15.0    0.000119\n",
              "20.0    0.000059\n",
              "9.0     0.000059\n",
              "Name: family_members, dtype: float64"
            ]
          },
          "metadata": {
            "tags": []
          },
          "execution_count": 678
        }
      ]
    },
    {
      "cell_type": "code",
      "metadata": {
        "id": "mIKuIX_D0OiU"
      },
      "source": [
        "X_train['family_members_bins'] = X_train['family_members']\n",
        "m = X_train['family_members_bins'] >=4\n",
        "X_train.loc[m, 'family_members_bins'] = '4 plus'\n",
        "X_train['family_members_bins'] = X_train['family_members_bins'].astype(str)"
      ],
      "execution_count": null,
      "outputs": []
    },
    {
      "cell_type": "code",
      "metadata": {
        "id": "ZocNOlstRcVC"
      },
      "source": [
        "X_test['family_members_bins'] = X_test['family_members']\n",
        "m = X_test['family_members_bins'] >=4\n",
        "X_test.loc[m, 'family_members_bins'] = '4 plus'\n",
        "X_test['family_members_bins'] = X_test['family_members_bins'].astype(str)"
      ],
      "execution_count": null,
      "outputs": []
    },
    {
      "cell_type": "code",
      "metadata": {
        "id": "b63AnroxkF9a"
      },
      "source": [
        "family_members_IV, family_members_MOE = calc_iv(X_train,'family_members_bins')"
      ],
      "execution_count": null,
      "outputs": []
    },
    {
      "cell_type": "code",
      "metadata": {
        "colab": {
          "base_uri": "https://localhost:8080/"
        },
        "id": "FUTqZlF6liNY",
        "outputId": "642de855-bbed-4aa0-9a4f-833969480277"
      },
      "source": [
        "print(family_members_MOE)\n",
        "print(family_members_IV)"
      ],
      "execution_count": null,
      "outputs": [
        {
          "output_type": "stream",
          "text": [
            "1.0      -0.142849\n",
            "2.0       0.031788\n",
            "3.0       0.068869\n",
            "4 plus   -0.027555\n",
            "Name: WOE, dtype: float64\n",
            "0.0053076743506193964\n"
          ],
          "name": "stdout"
        }
      ]
    },
    {
      "cell_type": "code",
      "metadata": {
        "id": "DCf4iHeJlosC"
      },
      "source": [
        "IV_dict['family_members'] = family_members_IV"
      ],
      "execution_count": null,
      "outputs": []
    },
    {
      "cell_type": "markdown",
      "metadata": {
        "id": "1laYOJAGACc4"
      },
      "source": [
        "## ***14. Month Begin***"
      ]
    },
    {
      "cell_type": "code",
      "metadata": {
        "colab": {
          "base_uri": "https://localhost:8080/",
          "height": 297
        },
        "id": "ArN2GVK4piyg",
        "outputId": "e6619eaa-fea1-435e-c521-f2546ba6243e"
      },
      "source": [
        "X_train['month_begin'] = X_train['month_begin'].abs()\n",
        "X_test['month_begin'] = X_test['month_begin'].abs()\n",
        "plotting_cont(X_train,'month_begin',6)"
      ],
      "execution_count": null,
      "outputs": [
        {
          "output_type": "display_data",
          "data": {
            "image/png": "[encoded data removed]",
            "text/plain": [
              "<Figure size 720x288 with 2 Axes>"
            ]
          },
          "metadata": {
            "tags": [],
            "needs_background": "light"
          }
        }
      ]
    },
    {
      "cell_type": "code",
      "metadata": {
        "colab": {
          "base_uri": "https://localhost:8080/"
        },
        "id": "yaSFDr-2mNeY",
        "outputId": "77f343c3-277c-4842-8c13-334a0a9fe2af"
      },
      "source": [
        "X_train['month_begin'].describe()"
      ],
      "execution_count": null,
      "outputs": [
        {
          "output_type": "execute_result",
          "data": {
            "text/plain": [
              "count    16839.000000\n",
              "mean        26.024705\n",
              "std         16.375547\n",
              "min          0.000000\n",
              "25%         12.000000\n",
              "50%         24.000000\n",
              "75%         39.000000\n",
              "max         60.000000\n",
              "Name: month_begin, dtype: float64"
            ]
          },
          "metadata": {
            "tags": []
          },
          "execution_count": 685
        }
      ]
    },
    {
      "cell_type": "code",
      "metadata": {
        "colab": {
          "base_uri": "https://localhost:8080/"
        },
        "id": "wa0JEHQymkgf",
        "outputId": "740a0f3e-2ddc-4875-d6b8-49fc9ed39a36"
      },
      "source": [
        "month_begin_bins = [ 0, 10, 20, 30, 40, 50, 60]\n",
        "month_begin_labels = ['below 10','10 to 20', '20 to 30', '30 to 40', '40 to 50','above 50']\n",
        "X_train['month_begin_bins'] = pd.cut(X_train['month_begin'] , labels = month_begin_labels, bins=month_begin_bins, include_lowest=True,)\n",
        "X_train['month_begin_bins'].value_counts(sort = False, normalize = True)"
      ],
      "execution_count": null,
      "outputs": [
        {
          "output_type": "execute_result",
          "data": {
            "text/plain": [
              "below 10    0.218006\n",
              "10 to 20    0.211473\n",
              "20 to 30    0.181780\n",
              "30 to 40    0.163311\n",
              "40 to 50    0.129402\n",
              "above 50    0.096027\n",
              "Name: month_begin_bins, dtype: float64"
            ]
          },
          "metadata": {
            "tags": []
          },
          "execution_count": 686
        }
      ]
    },
    {
      "cell_type": "code",
      "metadata": {
        "id": "zIc2kUYDR17U"
      },
      "source": [
        "X_test['month_begin_bins'] = pd.cut(X_test['month_begin'] , labels = month_begin_labels, bins=month_begin_bins, include_lowest=True,)"
      ],
      "execution_count": null,
      "outputs": []
    },
    {
      "cell_type": "code",
      "metadata": {
        "colab": {
          "base_uri": "https://localhost:8080/"
        },
        "id": "U0709O18nByq",
        "outputId": "11596168-6928-4604-9aa0-2e4efc954a6e"
      },
      "source": [
        "month_begin_IV, month_begin_WOE = calc_iv(X_train, 'month_begin_bins')\n",
        "print(month_begin_WOE)\n",
        "print(month_begin_IV)"
      ],
      "execution_count": null,
      "outputs": [
        {
          "output_type": "stream",
          "text": [
            "below 10    0.835943\n",
            "10 to 20    0.267096\n",
            "20 to 30    0.205954\n",
            "30 to 40   -0.316011\n",
            "40 to 50   -0.451994\n",
            "above 50   -0.582064\n",
            "Name: WOE, dtype: float64\n",
            "0.22024942403826392\n"
          ],
          "name": "stdout"
        }
      ]
    },
    {
      "cell_type": "code",
      "metadata": {
        "id": "fQBoLxIwoEL0"
      },
      "source": [
        "IV_dict['month_begin'] = month_begin_IV"
      ],
      "execution_count": null,
      "outputs": []
    },
    {
      "cell_type": "markdown",
      "metadata": {
        "id": "rEdPwtCzBpqJ"
      },
      "source": [
        "## ***15. Age***"
      ]
    },
    {
      "cell_type": "code",
      "metadata": {
        "colab": {
          "base_uri": "https://localhost:8080/",
          "height": 297
        },
        "id": "FryhKPOI_XhS",
        "outputId": "02189ae5-bb1e-4afa-e8a1-59167c7ed484"
      },
      "source": [
        "plotting_cont(X_train,'age',10)"
      ],
      "execution_count": null,
      "outputs": [
        {
          "output_type": "display_data",
          "data": {
            "image/png": "[encoded data removed]",
            "text/plain": [
              "<Figure size 720x288 with 2 Axes>"
            ]
          },
          "metadata": {
            "tags": [],
            "needs_background": "light"
          }
        }
      ]
    },
    {
      "cell_type": "code",
      "metadata": {
        "colab": {
          "base_uri": "https://localhost:8080/"
        },
        "id": "JbP_lRBsH9cp",
        "outputId": "924667e5-c134-42f4-9f9b-8cd632b2ff0a"
      },
      "source": [
        "X_train['age'].describe()"
      ],
      "execution_count": null,
      "outputs": [
        {
          "output_type": "execute_result",
          "data": {
            "text/plain": [
              "count    16839.000000\n",
              "mean        40.489934\n",
              "std          9.543338\n",
              "min         21.000000\n",
              "25%         33.000000\n",
              "50%         40.000000\n",
              "75%         48.000000\n",
              "max         67.000000\n",
              "Name: age, dtype: float64"
            ]
          },
          "metadata": {
            "tags": []
          },
          "execution_count": 691
        }
      ]
    },
    {
      "cell_type": "code",
      "metadata": {
        "colab": {
          "base_uri": "https://localhost:8080/"
        },
        "id": "AqvukFv8IIpx",
        "outputId": "0b76d315-66b5-4c78-8bd5-8fe3af3e6420"
      },
      "source": [
        "age_bins = [ 0, 25, 30, 35, 40, 45, 50, 55, 70 ]\n",
        "age_labels = ['below 25','25 to 30', '30 to 35', '35 to 40', '40 to 45','45 to 50', '50 to 55','above 55']\n",
        "X_train['age_bins'] = pd.cut(X_train['age'] , bins=age_bins, labels = age_labels, include_lowest=True,)\n",
        "X_train['age_bins'].value_counts(sort = False, normalize = True)"
      ],
      "execution_count": null,
      "outputs": [
        {
          "output_type": "execute_result",
          "data": {
            "text/plain": [
              "below 25    0.031653\n",
              "25 to 30    0.149059\n",
              "30 to 35    0.166815\n",
              "35 to 40    0.179167\n",
              "40 to 45    0.162658\n",
              "45 to 50    0.133500\n",
              "50 to 55    0.109389\n",
              "above 55    0.067759\n",
              "Name: age_bins, dtype: float64"
            ]
          },
          "metadata": {
            "tags": []
          },
          "execution_count": 692
        }
      ]
    },
    {
      "cell_type": "code",
      "metadata": {
        "id": "pQmB5s8uSPaF"
      },
      "source": [
        "X_test['age_bins'] = pd.cut(X_test['age'] , bins=age_bins, labels = age_labels, include_lowest=True,)"
      ],
      "execution_count": null,
      "outputs": []
    },
    {
      "cell_type": "code",
      "metadata": {
        "id": "czIZGsRSJAk3"
      },
      "source": [
        "age_iv, age_WOE = calc_iv(X_train, 'age_bins')"
      ],
      "execution_count": null,
      "outputs": []
    },
    {
      "cell_type": "code",
      "metadata": {
        "colab": {
          "base_uri": "https://localhost:8080/"
        },
        "id": "mnPxudeRJH2M",
        "outputId": "b9320a50-1a94-4c2d-f9ed-72cb7706930b"
      },
      "source": [
        "print(age_WOE)"
      ],
      "execution_count": null,
      "outputs": [
        {
          "output_type": "stream",
          "text": [
            "below 25   -0.209285\n",
            "25 to 30   -0.213197\n",
            "30 to 35    0.071549\n",
            "35 to 40    0.347438\n",
            "40 to 45    0.045907\n",
            "45 to 50   -0.131774\n",
            "50 to 55   -0.311185\n",
            "above 55    0.563021\n",
            "Name: WOE, dtype: float64\n"
          ],
          "name": "stdout"
        }
      ]
    },
    {
      "cell_type": "code",
      "metadata": {
        "colab": {
          "base_uri": "https://localhost:8080/"
        },
        "id": "rEmigYogJHJx",
        "outputId": "0b6bdbf2-7418-4892-f59a-15d5a72f3aec"
      },
      "source": [
        "age_iv"
      ],
      "execution_count": null,
      "outputs": [
        {
          "output_type": "execute_result",
          "data": {
            "text/plain": [
              "0.059945204197501406"
            ]
          },
          "metadata": {
            "tags": []
          },
          "execution_count": 696
        }
      ]
    },
    {
      "cell_type": "code",
      "metadata": {
        "id": "p2qC1d_zmFxY"
      },
      "source": [
        "IV_dict['age'] = age_iv"
      ],
      "execution_count": null,
      "outputs": []
    },
    {
      "cell_type": "markdown",
      "metadata": {
        "id": "oKr5tSFQCHgA"
      },
      "source": [
        "## ***16. Income***"
      ]
    },
    {
      "cell_type": "code",
      "metadata": {
        "colab": {
          "base_uri": "https://localhost:8080/",
          "height": 297
        },
        "id": "cQdfpKVbBaK1",
        "outputId": "e2659a86-c45d-4555-a9b5-753731fa7aa8"
      },
      "source": [
        "X_train['income'] = X_train['income'] / 1000\n",
        "X_test['income'] = X_test['income'] / 1000\n",
        "plotting_cont(X_train, 'income', 20)"
      ],
      "execution_count": null,
      "outputs": [
        {
          "output_type": "display_data",
          "data": {
            "image/png": "[encoded data removed]",
            "text/plain": [
              "<Figure size 720x288 with 2 Axes>"
            ]
          },
          "metadata": {
            "tags": [],
            "needs_background": "light"
          }
        }
      ]
    },
    {
      "cell_type": "code",
      "metadata": {
        "colab": {
          "base_uri": "https://localhost:8080/"
        },
        "id": "S3sOOCXV0drM",
        "outputId": "455e456f-5222-4323-9bb7-1b5ae40750b2"
      },
      "source": [
        "X_train['income'].describe()"
      ],
      "execution_count": null,
      "outputs": [
        {
          "output_type": "execute_result",
          "data": {
            "text/plain": [
              "count    16839.000000\n",
              "mean       195.072845\n",
              "std        104.481958\n",
              "min         27.000000\n",
              "25%        135.000000\n",
              "50%        180.000000\n",
              "75%        225.000000\n",
              "max       1575.000000\n",
              "Name: income, dtype: float64"
            ]
          },
          "metadata": {
            "tags": []
          },
          "execution_count": 699
        }
      ]
    },
    {
      "cell_type": "code",
      "metadata": {
        "id": "KHbSApta8CMC",
        "colab": {
          "base_uri": "https://localhost:8080/"
        },
        "outputId": "9d1b8f62-4af2-4356-ad2f-d257fad0b3d4"
      },
      "source": [
        "income_bins = [ 0, 100, 150, 200, 250, 300, 1600 ]\n",
        "income_labels = ['less than 10,000','10,000 to 15,000', '15,000 to 20,000', '20,000 to 25,000', '25,000 to 30,000','above 30,000']\n",
        "X_train['income_bins'] = pd.cut(X_train['income'] , bins=income_bins, include_lowest=True, labels=income_labels)\n",
        "X_train['income_bins'].value_counts(sort = False, normalize = True)"
      ],
      "execution_count": null,
      "outputs": [
        {
          "output_type": "execute_result",
          "data": {
            "text/plain": [
              "less than 10,000    0.108558\n",
              "10,000 to 15,000    0.269018\n",
              "15,000 to 20,000    0.215868\n",
              "20,000 to 25,000    0.201259\n",
              "25,000 to 30,000    0.086525\n",
              "above 30,000        0.118772\n",
              "Name: income_bins, dtype: float64"
            ]
          },
          "metadata": {
            "tags": []
          },
          "execution_count": 700
        }
      ]
    },
    {
      "cell_type": "code",
      "metadata": {
        "id": "W4nJQBy4TcEU"
      },
      "source": [
        "X_test['income_bins'] = pd.cut(X_test['income'] , bins=income_bins, include_lowest=True, labels=income_labels)"
      ],
      "execution_count": null,
      "outputs": []
    },
    {
      "cell_type": "code",
      "metadata": {
        "id": "TA0J8_hW45Pg"
      },
      "source": [
        "income_iv, income_WOE = calc_iv(X_train, 'income_bins')"
      ],
      "execution_count": null,
      "outputs": []
    },
    {
      "cell_type": "code",
      "metadata": {
        "colab": {
          "base_uri": "https://localhost:8080/"
        },
        "id": "DXTvTiZP45DM",
        "outputId": "e63a3c1e-c27e-441c-d196-c535f1338267"
      },
      "source": [
        "print(income_WOE)"
      ],
      "execution_count": null,
      "outputs": [
        {
          "output_type": "stream",
          "text": [
            "less than 10,000    0.024176\n",
            "10,000 to 15,000   -0.011529\n",
            "15,000 to 20,000    0.144328\n",
            "20,000 to 25,000   -0.150088\n",
            "25,000 to 30,000   -0.172323\n",
            "above 30,000        0.185542\n",
            "Name: WOE, dtype: float64\n"
          ],
          "name": "stdout"
        }
      ]
    },
    {
      "cell_type": "code",
      "metadata": {
        "colab": {
          "base_uri": "https://localhost:8080/"
        },
        "id": "UBWfnqD7Hxxh",
        "outputId": "64d4689d-2681-4d13-dd73-08089bf6374b"
      },
      "source": [
        "income_iv"
      ],
      "execution_count": null,
      "outputs": [
        {
          "output_type": "execute_result",
          "data": {
            "text/plain": [
              "0.015711420868501066"
            ]
          },
          "metadata": {
            "tags": []
          },
          "execution_count": 704
        }
      ]
    },
    {
      "cell_type": "code",
      "metadata": {
        "colab": {
          "base_uri": "https://localhost:8080/",
          "height": 481
        },
        "id": "0y_l8vSX97_x",
        "outputId": "fa887332-2b32-4fb6-cc4d-62db18f3de1d"
      },
      "source": [
        "plotting(X_train, 'income_bins')"
      ],
      "execution_count": null,
      "outputs": [
        {
          "output_type": "display_data",
          "data": {
            "image/png": "[encoded data removed]",
            "text/plain": [
              "<Figure size 1080x432 with 2 Axes>"
            ]
          },
          "metadata": {
            "tags": [],
            "needs_background": "light"
          }
        }
      ]
    },
    {
      "cell_type": "code",
      "metadata": {
        "id": "p-ith4Osqv6j"
      },
      "source": [
        "IV_dict['income'] = income_iv"
      ],
      "execution_count": null,
      "outputs": []
    },
    {
      "cell_type": "markdown",
      "metadata": {
        "id": "aJeHdv7IEuDy"
      },
      "source": [
        "## ***17. Employed Months***"
      ]
    },
    {
      "cell_type": "code",
      "metadata": {
        "colab": {
          "base_uri": "https://localhost:8080/",
          "height": 297
        },
        "id": "_o3OS7hKEjkT",
        "outputId": "d281a796-c437-4b09-e61e-543e367583ad"
      },
      "source": [
        "plotting_cont(X_train,'employed_months', 10)"
      ],
      "execution_count": null,
      "outputs": [
        {
          "output_type": "display_data",
          "data": {
            "image/png": "[encoded data removed]",
            "text/plain": [
              "<Figure size 720x288 with 2 Axes>"
            ]
          },
          "metadata": {
            "tags": [],
            "needs_background": "light"
          }
        }
      ]
    },
    {
      "cell_type": "code",
      "metadata": {
        "id": "s_B-zYem-bes",
        "colab": {
          "base_uri": "https://localhost:8080/"
        },
        "outputId": "f3eb53bd-a979-4eac-85c8-4d5dfd84bd34"
      },
      "source": [
        "X_train['employed_months'].describe()"
      ],
      "execution_count": null,
      "outputs": [
        {
          "output_type": "execute_result",
          "data": {
            "text/plain": [
              "count    16839.000000\n",
              "mean        87.129936\n",
              "std         77.476358\n",
              "min          1.000000\n",
              "25%         33.000000\n",
              "50%         64.000000\n",
              "75%        115.000000\n",
              "max        524.000000\n",
              "Name: employed_months, dtype: float64"
            ]
          },
          "metadata": {
            "tags": []
          },
          "execution_count": 708
        }
      ]
    },
    {
      "cell_type": "code",
      "metadata": {
        "colab": {
          "base_uri": "https://localhost:8080/"
        },
        "id": "cyvnCE0J-_rw",
        "outputId": "a2d71d41-b0a5-4226-a2e4-7c241088616b"
      },
      "source": [
        "empl_bins = [0, 75, 125, 150, 175, 200, 525]\n",
        "empl_labels = ['below 75', '75 to 125', '125 to 150', '150 to 175', '175 to 200', 'above 200']\n",
        "\n",
        "X_train['empl_bins'] = pd.cut(X_train['employed_months'] , labels=empl_labels, bins=empl_bins, include_lowest=True)\n",
        "X_train['empl_bins'].value_counts(sort = False, normalize = True)"
      ],
      "execution_count": null,
      "outputs": [
        {
          "output_type": "execute_result",
          "data": {
            "text/plain": [
              "below 75      0.560603\n",
              "75 to 125     0.222757\n",
              "125 to 150    0.056535\n",
              "150 to 175    0.039907\n",
              "175 to 200    0.031831\n",
              "above 200     0.088366\n",
              "Name: empl_bins, dtype: float64"
            ]
          },
          "metadata": {
            "tags": []
          },
          "execution_count": 709
        }
      ]
    },
    {
      "cell_type": "code",
      "metadata": {
        "id": "AYmAhA0GT5cs"
      },
      "source": [
        "X_test['empl_bins'] = pd.cut(X_test['employed_months'] , labels=empl_labels, bins=empl_bins, include_lowest=True)"
      ],
      "execution_count": null,
      "outputs": []
    },
    {
      "cell_type": "code",
      "metadata": {
        "colab": {
          "base_uri": "https://localhost:8080/"
        },
        "id": "4MB1xnrNAGN5",
        "outputId": "60c49740-5cea-41d5-dfe6-0bedfb5f35e6"
      },
      "source": [
        "empl_iv, empl_WOE = calc_iv(X_train, 'empl_bins')\n",
        "print(empl_WOE)"
      ],
      "execution_count": null,
      "outputs": [
        {
          "output_type": "stream",
          "text": [
            "below 75     -0.145408\n",
            "75 to 125    -0.015372\n",
            "125 to 150    0.291916\n",
            "150 to 175    0.640473\n",
            "175 to 200    1.110852\n",
            "above 200     0.517949\n",
            "Name: WOE, dtype: float64\n"
          ],
          "name": "stdout"
        }
      ]
    },
    {
      "cell_type": "code",
      "metadata": {
        "colab": {
          "base_uri": "https://localhost:8080/"
        },
        "id": "Hh05NjsIAXsu",
        "outputId": "7182859a-118b-4cc9-a83e-8e845bd0961a"
      },
      "source": [
        "empl_iv"
      ],
      "execution_count": null,
      "outputs": [
        {
          "output_type": "execute_result",
          "data": {
            "text/plain": [
              "0.07177513495178996"
            ]
          },
          "metadata": {
            "tags": []
          },
          "execution_count": 712
        }
      ]
    },
    {
      "cell_type": "code",
      "metadata": {
        "id": "w0XeRQvSDSMD"
      },
      "source": [
        "IV_dict['employed_months'] = empl_iv"
      ],
      "execution_count": null,
      "outputs": []
    },
    {
      "cell_type": "code",
      "metadata": {
        "colab": {
          "base_uri": "https://localhost:8080/",
          "height": 612
        },
        "id": "7g1fu1Iss6po",
        "outputId": "a835e7e3-152f-4504-f8d6-4dc4de8b7ace"
      },
      "source": [
        "IV = pd.DataFrame.from_dict(IV_dict, orient='index', columns=['IV'] )\n",
        "IV"
      ],
      "execution_count": null,
      "outputs": [
        {
          "output_type": "execute_result",
          "data": {
            "text/html": [
              "<div>\n",
              "<style scoped>\n",
              "    .dataframe tbody tr th:only-of-type {\n",
              "        vertical-align: middle;\n",
              "    }\n",
              "\n",
              "    .dataframe tbody tr th {\n",
              "        vertical-align: top;\n",
              "    }\n",
              "\n",
              "    .dataframe thead th {\n",
              "        text-align: right;\n",
              "    }\n",
              "</style>\n",
              "<table border=\"1\" class=\"dataframe\">\n",
              "  <thead>\n",
              "    <tr style=\"text-align: right;\">\n",
              "      <th></th>\n",
              "      <th>IV</th>\n",
              "    </tr>\n",
              "  </thead>\n",
              "  <tbody>\n",
              "    <tr>\n",
              "      <th>Feature</th>\n",
              "      <td>Value</td>\n",
              "    </tr>\n",
              "    <tr>\n",
              "      <th>gender</th>\n",
              "      <td>0.0158203</td>\n",
              "    </tr>\n",
              "    <tr>\n",
              "      <th>car</th>\n",
              "      <td>0.000528756</td>\n",
              "    </tr>\n",
              "    <tr>\n",
              "      <th>realty</th>\n",
              "      <td>0.0450091</td>\n",
              "    </tr>\n",
              "    <tr>\n",
              "      <th>income_type</th>\n",
              "      <td>0.013574</td>\n",
              "    </tr>\n",
              "    <tr>\n",
              "      <th>education</th>\n",
              "      <td>0.0165977</td>\n",
              "    </tr>\n",
              "    <tr>\n",
              "      <th>family_status</th>\n",
              "      <td>0.0267982</td>\n",
              "    </tr>\n",
              "    <tr>\n",
              "      <th>work_phone</th>\n",
              "      <td>0.0030466</td>\n",
              "    </tr>\n",
              "    <tr>\n",
              "      <th>phone</th>\n",
              "      <td>0.000225735</td>\n",
              "    </tr>\n",
              "    <tr>\n",
              "      <th>email</th>\n",
              "      <td>0.000569662</td>\n",
              "    </tr>\n",
              "    <tr>\n",
              "      <th>occupation</th>\n",
              "      <td>0.0487989</td>\n",
              "    </tr>\n",
              "    <tr>\n",
              "      <th>house_type</th>\n",
              "      <td>0.001153</td>\n",
              "    </tr>\n",
              "    <tr>\n",
              "      <th>children</th>\n",
              "      <td>0.00283545</td>\n",
              "    </tr>\n",
              "    <tr>\n",
              "      <th>family_members</th>\n",
              "      <td>0.00530767</td>\n",
              "    </tr>\n",
              "    <tr>\n",
              "      <th>month_begin</th>\n",
              "      <td>0.220249</td>\n",
              "    </tr>\n",
              "    <tr>\n",
              "      <th>age</th>\n",
              "      <td>0.0599452</td>\n",
              "    </tr>\n",
              "    <tr>\n",
              "      <th>income</th>\n",
              "      <td>0.0157114</td>\n",
              "    </tr>\n",
              "    <tr>\n",
              "      <th>employed_months</th>\n",
              "      <td>0.0717751</td>\n",
              "    </tr>\n",
              "  </tbody>\n",
              "</table>\n",
              "</div>"
            ],
            "text/plain": [
              "                          IV\n",
              "Feature                Value\n",
              "gender             0.0158203\n",
              "car              0.000528756\n",
              "realty             0.0450091\n",
              "income_type         0.013574\n",
              "education          0.0165977\n",
              "family_status      0.0267982\n",
              "work_phone         0.0030466\n",
              "phone            0.000225735\n",
              "email            0.000569662\n",
              "occupation         0.0487989\n",
              "house_type          0.001153\n",
              "children          0.00283545\n",
              "family_members    0.00530767\n",
              "month_begin         0.220249\n",
              "age                0.0599452\n",
              "income             0.0157114\n",
              "employed_months    0.0717751"
            ]
          },
          "metadata": {
            "tags": []
          },
          "execution_count": 714
        }
      ]
    },
    {
      "cell_type": "code",
      "metadata": {
        "id": "pMWKTViztO5I"
      },
      "source": [
        "IV = IV.drop(labels='Feature', axis=0)"
      ],
      "execution_count": null,
      "outputs": []
    },
    {
      "cell_type": "code",
      "metadata": {
        "colab": {
          "base_uri": "https://localhost:8080/",
          "height": 581
        },
        "id": "oALHuQmst7vU",
        "outputId": "eecaea9c-8823-43c7-ae2c-b74bbe288c1b"
      },
      "source": [
        "IV.sort_values('IV', ascending=False)"
      ],
      "execution_count": null,
      "outputs": [
        {
          "output_type": "execute_result",
          "data": {
            "text/html": [
              "<div>\n",
              "<style scoped>\n",
              "    .dataframe tbody tr th:only-of-type {\n",
              "        vertical-align: middle;\n",
              "    }\n",
              "\n",
              "    .dataframe tbody tr th {\n",
              "        vertical-align: top;\n",
              "    }\n",
              "\n",
              "    .dataframe thead th {\n",
              "        text-align: right;\n",
              "    }\n",
              "</style>\n",
              "<table border=\"1\" class=\"dataframe\">\n",
              "  <thead>\n",
              "    <tr style=\"text-align: right;\">\n",
              "      <th></th>\n",
              "      <th>IV</th>\n",
              "    </tr>\n",
              "  </thead>\n",
              "  <tbody>\n",
              "    <tr>\n",
              "      <th>month_begin</th>\n",
              "      <td>0.220249</td>\n",
              "    </tr>\n",
              "    <tr>\n",
              "      <th>employed_months</th>\n",
              "      <td>0.0717751</td>\n",
              "    </tr>\n",
              "    <tr>\n",
              "      <th>age</th>\n",
              "      <td>0.0599452</td>\n",
              "    </tr>\n",
              "    <tr>\n",
              "      <th>occupation</th>\n",
              "      <td>0.0487989</td>\n",
              "    </tr>\n",
              "    <tr>\n",
              "      <th>realty</th>\n",
              "      <td>0.0450091</td>\n",
              "    </tr>\n",
              "    <tr>\n",
              "      <th>family_status</th>\n",
              "      <td>0.0267982</td>\n",
              "    </tr>\n",
              "    <tr>\n",
              "      <th>education</th>\n",
              "      <td>0.0165977</td>\n",
              "    </tr>\n",
              "    <tr>\n",
              "      <th>gender</th>\n",
              "      <td>0.0158203</td>\n",
              "    </tr>\n",
              "    <tr>\n",
              "      <th>income</th>\n",
              "      <td>0.0157114</td>\n",
              "    </tr>\n",
              "    <tr>\n",
              "      <th>income_type</th>\n",
              "      <td>0.013574</td>\n",
              "    </tr>\n",
              "    <tr>\n",
              "      <th>family_members</th>\n",
              "      <td>0.00530767</td>\n",
              "    </tr>\n",
              "    <tr>\n",
              "      <th>work_phone</th>\n",
              "      <td>0.0030466</td>\n",
              "    </tr>\n",
              "    <tr>\n",
              "      <th>children</th>\n",
              "      <td>0.00283545</td>\n",
              "    </tr>\n",
              "    <tr>\n",
              "      <th>house_type</th>\n",
              "      <td>0.001153</td>\n",
              "    </tr>\n",
              "    <tr>\n",
              "      <th>email</th>\n",
              "      <td>0.000569662</td>\n",
              "    </tr>\n",
              "    <tr>\n",
              "      <th>car</th>\n",
              "      <td>0.000528756</td>\n",
              "    </tr>\n",
              "    <tr>\n",
              "      <th>phone</th>\n",
              "      <td>0.000225735</td>\n",
              "    </tr>\n",
              "  </tbody>\n",
              "</table>\n",
              "</div>"
            ],
            "text/plain": [
              "                          IV\n",
              "month_begin         0.220249\n",
              "employed_months    0.0717751\n",
              "age                0.0599452\n",
              "occupation         0.0487989\n",
              "realty             0.0450091\n",
              "family_status      0.0267982\n",
              "education          0.0165977\n",
              "gender             0.0158203\n",
              "income             0.0157114\n",
              "income_type         0.013574\n",
              "family_members    0.00530767\n",
              "work_phone         0.0030466\n",
              "children          0.00283545\n",
              "house_type          0.001153\n",
              "email            0.000569662\n",
              "car              0.000528756\n",
              "phone            0.000225735"
            ]
          },
          "metadata": {
            "tags": []
          },
          "execution_count": 716
        }
      ]
    },
    {
      "cell_type": "code",
      "metadata": {
        "id": "_aepF_ppyxCz"
      },
      "source": [
        "X_train.drop(['income_type', 'occupation', 'children', 'family_members', 'month_begin', 'age', 'income', 'employed_months'], axis = 1, inplace = True)"
      ],
      "execution_count": null,
      "outputs": []
    },
    {
      "cell_type": "code",
      "metadata": {
        "id": "q73VxvxmzXvZ"
      },
      "source": [
        "X_train.drop(['income_type_bins', 'family_members_bins', 'house_type', 'work_phone', 'children_bins', 'phone', 'email', 'car'], axis = 1, inplace = True)"
      ],
      "execution_count": null,
      "outputs": []
    },
    {
      "cell_type": "code",
      "metadata": {
        "colab": {
          "base_uri": "https://localhost:8080/",
          "height": 292
        },
        "id": "28rLd_Yi0wDa",
        "outputId": "1731f32d-7c90-4b82-9b1d-9b6d73e06557"
      },
      "source": [
        "X_train.head()"
      ],
      "execution_count": null,
      "outputs": [
        {
          "output_type": "execute_result",
          "data": {
            "text/html": [
              "<div>\n",
              "<style scoped>\n",
              "    .dataframe tbody tr th:only-of-type {\n",
              "        vertical-align: middle;\n",
              "    }\n",
              "\n",
              "    .dataframe tbody tr th {\n",
              "        vertical-align: top;\n",
              "    }\n",
              "\n",
              "    .dataframe thead th {\n",
              "        text-align: right;\n",
              "    }\n",
              "</style>\n",
              "<table border=\"1\" class=\"dataframe\">\n",
              "  <thead>\n",
              "    <tr style=\"text-align: right;\">\n",
              "      <th></th>\n",
              "      <th>ID</th>\n",
              "      <th>bad</th>\n",
              "      <th>gender</th>\n",
              "      <th>realty</th>\n",
              "      <th>education</th>\n",
              "      <th>family_status</th>\n",
              "      <th>occupation_bins</th>\n",
              "      <th>month_begin_bins</th>\n",
              "      <th>age_bins</th>\n",
              "      <th>income_bins</th>\n",
              "      <th>empl_bins</th>\n",
              "    </tr>\n",
              "  </thead>\n",
              "  <tbody>\n",
              "    <tr>\n",
              "      <th>2919</th>\n",
              "      <td>5022513</td>\n",
              "      <td>0</td>\n",
              "      <td>M</td>\n",
              "      <td>Y</td>\n",
              "      <td>Secondary / secondary special</td>\n",
              "      <td>Married</td>\n",
              "      <td>Drivers</td>\n",
              "      <td>10 to 20</td>\n",
              "      <td>40 to 45</td>\n",
              "      <td>10,000 to 15,000</td>\n",
              "      <td>below 75</td>\n",
              "    </tr>\n",
              "    <tr>\n",
              "      <th>21211</th>\n",
              "      <td>5090939</td>\n",
              "      <td>0</td>\n",
              "      <td>F</td>\n",
              "      <td>N</td>\n",
              "      <td>Higher education</td>\n",
              "      <td>Separated</td>\n",
              "      <td>Core staff</td>\n",
              "      <td>below 10</td>\n",
              "      <td>35 to 40</td>\n",
              "      <td>15,000 to 20,000</td>\n",
              "      <td>125 to 150</td>\n",
              "    </tr>\n",
              "    <tr>\n",
              "      <th>15429</th>\n",
              "      <td>5065419</td>\n",
              "      <td>0</td>\n",
              "      <td>F</td>\n",
              "      <td>Y</td>\n",
              "      <td>Secondary / secondary special</td>\n",
              "      <td>Married</td>\n",
              "      <td>Sales staff</td>\n",
              "      <td>40 to 50</td>\n",
              "      <td>40 to 45</td>\n",
              "      <td>25,000 to 30,000</td>\n",
              "      <td>75 to 125</td>\n",
              "    </tr>\n",
              "    <tr>\n",
              "      <th>16362</th>\n",
              "      <td>5067193</td>\n",
              "      <td>0</td>\n",
              "      <td>M</td>\n",
              "      <td>Y</td>\n",
              "      <td>Lower secondary</td>\n",
              "      <td>Single / not married</td>\n",
              "      <td>Laborers</td>\n",
              "      <td>40 to 50</td>\n",
              "      <td>30 to 35</td>\n",
              "      <td>15,000 to 20,000</td>\n",
              "      <td>75 to 125</td>\n",
              "    </tr>\n",
              "    <tr>\n",
              "      <th>2228</th>\n",
              "      <td>5021645</td>\n",
              "      <td>0</td>\n",
              "      <td>F</td>\n",
              "      <td>Y</td>\n",
              "      <td>Higher education</td>\n",
              "      <td>Civil marriage</td>\n",
              "      <td>Managers</td>\n",
              "      <td>above 50</td>\n",
              "      <td>30 to 35</td>\n",
              "      <td>25,000 to 30,000</td>\n",
              "      <td>175 to 200</td>\n",
              "    </tr>\n",
              "  </tbody>\n",
              "</table>\n",
              "</div>"
            ],
            "text/plain": [
              "            ID  bad gender  ...  age_bins       income_bins   empl_bins\n",
              "2919   5022513    0      M  ...  40 to 45  10,000 to 15,000    below 75\n",
              "21211  5090939    0      F  ...  35 to 40  15,000 to 20,000  125 to 150\n",
              "15429  5065419    0      F  ...  40 to 45  25,000 to 30,000   75 to 125\n",
              "16362  5067193    0      M  ...  30 to 35  15,000 to 20,000   75 to 125\n",
              "2228   5021645    0      F  ...  30 to 35  25,000 to 30,000  175 to 200\n",
              "\n",
              "[5 rows x 11 columns]"
            ]
          },
          "metadata": {
            "tags": []
          },
          "execution_count": 719
        }
      ]
    },
    {
      "cell_type": "code",
      "metadata": {
        "colab": {
          "base_uri": "https://localhost:8080/"
        },
        "id": "pYn4Qx0e0xRx",
        "outputId": "8406197d-b7c7-4ea9-fa63-0231a10ba3fa"
      },
      "source": [
        "X_train.shape"
      ],
      "execution_count": null,
      "outputs": [
        {
          "output_type": "execute_result",
          "data": {
            "text/plain": [
              "(16839, 11)"
            ]
          },
          "metadata": {
            "tags": []
          },
          "execution_count": 720
        }
      ]
    },
    {
      "cell_type": "code",
      "metadata": {
        "colab": {
          "base_uri": "https://localhost:8080/"
        },
        "id": "rd_pNKU-WUgK",
        "outputId": "cd9987ef-d3c8-4bfb-98de-c9e547dd9adc"
      },
      "source": [
        "y_train.shape"
      ],
      "execution_count": null,
      "outputs": [
        {
          "output_type": "execute_result",
          "data": {
            "text/plain": [
              "(16839,)"
            ]
          },
          "metadata": {
            "tags": []
          },
          "execution_count": 721
        }
      ]
    },
    {
      "cell_type": "code",
      "metadata": {
        "id": "Gdyi9Pj10-ML"
      },
      "source": [
        "X_train.rename(columns={'occupation_bins':'occupation', 'month_begin_bins':'month_begin','age_bins':'age','income_bins':'income','empl_bins':'employed_months'}, inplace=True)"
      ],
      "execution_count": null,
      "outputs": []
    },
    {
      "cell_type": "code",
      "metadata": {
        "id": "ScgrdzyD5nDU"
      },
      "source": [
        "X_train.drop(['bad', 'ID'], axis=1, inplace=True)"
      ],
      "execution_count": null,
      "outputs": []
    },
    {
      "cell_type": "code",
      "metadata": {
        "id": "u30_we1C6Ab4"
      },
      "source": [
        "X_train = pd.get_dummies(X_train, drop_first=True)"
      ],
      "execution_count": null,
      "outputs": []
    },
    {
      "cell_type": "code",
      "metadata": {
        "colab": {
          "base_uri": "https://localhost:8080/",
          "height": 260
        },
        "id": "qDP8yXrL5uHr",
        "outputId": "89b31d6c-927d-4454-cd7b-3afe08f1ea1c"
      },
      "source": [
        "X_train.head()"
      ],
      "execution_count": null,
      "outputs": [
        {
          "output_type": "execute_result",
          "data": {
            "text/html": [
              "<div>\n",
              "<style scoped>\n",
              "    .dataframe tbody tr th:only-of-type {\n",
              "        vertical-align: middle;\n",
              "    }\n",
              "\n",
              "    .dataframe tbody tr th {\n",
              "        vertical-align: top;\n",
              "    }\n",
              "\n",
              "    .dataframe thead th {\n",
              "        text-align: right;\n",
              "    }\n",
              "</style>\n",
              "<table border=\"1\" class=\"dataframe\">\n",
              "  <thead>\n",
              "    <tr style=\"text-align: right;\">\n",
              "      <th></th>\n",
              "      <th>gender_M</th>\n",
              "      <th>realty_Y</th>\n",
              "      <th>education_Higher education</th>\n",
              "      <th>education_Incomplete higher</th>\n",
              "      <th>education_Lower secondary</th>\n",
              "      <th>education_Secondary / secondary special</th>\n",
              "      <th>family_status_Married</th>\n",
              "      <th>family_status_Separated</th>\n",
              "      <th>family_status_Single / not married</th>\n",
              "      <th>family_status_Widow</th>\n",
              "      <th>occupation_Core staff</th>\n",
              "      <th>occupation_Drivers</th>\n",
              "      <th>occupation_High skill tech staff</th>\n",
              "      <th>occupation_Laborers</th>\n",
              "      <th>occupation_Managers</th>\n",
              "      <th>occupation_Medicine staff</th>\n",
              "      <th>occupation_Other Occupations</th>\n",
              "      <th>occupation_Sales staff</th>\n",
              "      <th>month_begin_10 to 20</th>\n",
              "      <th>month_begin_20 to 30</th>\n",
              "      <th>month_begin_30 to 40</th>\n",
              "      <th>month_begin_40 to 50</th>\n",
              "      <th>month_begin_above 50</th>\n",
              "      <th>age_25 to 30</th>\n",
              "      <th>age_30 to 35</th>\n",
              "      <th>age_35 to 40</th>\n",
              "      <th>age_40 to 45</th>\n",
              "      <th>age_45 to 50</th>\n",
              "      <th>age_50 to 55</th>\n",
              "      <th>age_above 55</th>\n",
              "      <th>income_10,000 to 15,000</th>\n",
              "      <th>income_15,000 to 20,000</th>\n",
              "      <th>income_20,000 to 25,000</th>\n",
              "      <th>income_25,000 to 30,000</th>\n",
              "      <th>income_above 30,000</th>\n",
              "      <th>employed_months_75 to 125</th>\n",
              "      <th>employed_months_125 to 150</th>\n",
              "      <th>employed_months_150 to 175</th>\n",
              "      <th>employed_months_175 to 200</th>\n",
              "      <th>employed_months_above 200</th>\n",
              "    </tr>\n",
              "  </thead>\n",
              "  <tbody>\n",
              "    <tr>\n",
              "      <th>2919</th>\n",
              "      <td>1</td>\n",
              "      <td>1</td>\n",
              "      <td>0</td>\n",
              "      <td>0</td>\n",
              "      <td>0</td>\n",
              "      <td>1</td>\n",
              "      <td>1</td>\n",
              "      <td>0</td>\n",
              "      <td>0</td>\n",
              "      <td>0</td>\n",
              "      <td>0</td>\n",
              "      <td>1</td>\n",
              "      <td>0</td>\n",
              "      <td>0</td>\n",
              "      <td>0</td>\n",
              "      <td>0</td>\n",
              "      <td>0</td>\n",
              "      <td>0</td>\n",
              "      <td>1</td>\n",
              "      <td>0</td>\n",
              "      <td>0</td>\n",
              "      <td>0</td>\n",
              "      <td>0</td>\n",
              "      <td>0</td>\n",
              "      <td>0</td>\n",
              "      <td>0</td>\n",
              "      <td>1</td>\n",
              "      <td>0</td>\n",
              "      <td>0</td>\n",
              "      <td>0</td>\n",
              "      <td>1</td>\n",
              "      <td>0</td>\n",
              "      <td>0</td>\n",
              "      <td>0</td>\n",
              "      <td>0</td>\n",
              "      <td>0</td>\n",
              "      <td>0</td>\n",
              "      <td>0</td>\n",
              "      <td>0</td>\n",
              "      <td>0</td>\n",
              "    </tr>\n",
              "    <tr>\n",
              "      <th>21211</th>\n",
              "      <td>0</td>\n",
              "      <td>0</td>\n",
              "      <td>1</td>\n",
              "      <td>0</td>\n",
              "      <td>0</td>\n",
              "      <td>0</td>\n",
              "      <td>0</td>\n",
              "      <td>1</td>\n",
              "      <td>0</td>\n",
              "      <td>0</td>\n",
              "      <td>1</td>\n",
              "      <td>0</td>\n",
              "      <td>0</td>\n",
              "      <td>0</td>\n",
              "      <td>0</td>\n",
              "      <td>0</td>\n",
              "      <td>0</td>\n",
              "      <td>0</td>\n",
              "      <td>0</td>\n",
              "      <td>0</td>\n",
              "      <td>0</td>\n",
              "      <td>0</td>\n",
              "      <td>0</td>\n",
              "      <td>0</td>\n",
              "      <td>0</td>\n",
              "      <td>1</td>\n",
              "      <td>0</td>\n",
              "      <td>0</td>\n",
              "      <td>0</td>\n",
              "      <td>0</td>\n",
              "      <td>0</td>\n",
              "      <td>1</td>\n",
              "      <td>0</td>\n",
              "      <td>0</td>\n",
              "      <td>0</td>\n",
              "      <td>0</td>\n",
              "      <td>1</td>\n",
              "      <td>0</td>\n",
              "      <td>0</td>\n",
              "      <td>0</td>\n",
              "    </tr>\n",
              "    <tr>\n",
              "      <th>15429</th>\n",
              "      <td>0</td>\n",
              "      <td>1</td>\n",
              "      <td>0</td>\n",
              "      <td>0</td>\n",
              "      <td>0</td>\n",
              "      <td>1</td>\n",
              "      <td>1</td>\n",
              "      <td>0</td>\n",
              "      <td>0</td>\n",
              "      <td>0</td>\n",
              "      <td>0</td>\n",
              "      <td>0</td>\n",
              "      <td>0</td>\n",
              "      <td>0</td>\n",
              "      <td>0</td>\n",
              "      <td>0</td>\n",
              "      <td>0</td>\n",
              "      <td>1</td>\n",
              "      <td>0</td>\n",
              "      <td>0</td>\n",
              "      <td>0</td>\n",
              "      <td>1</td>\n",
              "      <td>0</td>\n",
              "      <td>0</td>\n",
              "      <td>0</td>\n",
              "      <td>0</td>\n",
              "      <td>1</td>\n",
              "      <td>0</td>\n",
              "      <td>0</td>\n",
              "      <td>0</td>\n",
              "      <td>0</td>\n",
              "      <td>0</td>\n",
              "      <td>0</td>\n",
              "      <td>1</td>\n",
              "      <td>0</td>\n",
              "      <td>1</td>\n",
              "      <td>0</td>\n",
              "      <td>0</td>\n",
              "      <td>0</td>\n",
              "      <td>0</td>\n",
              "    </tr>\n",
              "    <tr>\n",
              "      <th>16362</th>\n",
              "      <td>1</td>\n",
              "      <td>1</td>\n",
              "      <td>0</td>\n",
              "      <td>0</td>\n",
              "      <td>1</td>\n",
              "      <td>0</td>\n",
              "      <td>0</td>\n",
              "      <td>0</td>\n",
              "      <td>1</td>\n",
              "      <td>0</td>\n",
              "      <td>0</td>\n",
              "      <td>0</td>\n",
              "      <td>0</td>\n",
              "      <td>1</td>\n",
              "      <td>0</td>\n",
              "      <td>0</td>\n",
              "      <td>0</td>\n",
              "      <td>0</td>\n",
              "      <td>0</td>\n",
              "      <td>0</td>\n",
              "      <td>0</td>\n",
              "      <td>1</td>\n",
              "      <td>0</td>\n",
              "      <td>0</td>\n",
              "      <td>1</td>\n",
              "      <td>0</td>\n",
              "      <td>0</td>\n",
              "      <td>0</td>\n",
              "      <td>0</td>\n",
              "      <td>0</td>\n",
              "      <td>0</td>\n",
              "      <td>1</td>\n",
              "      <td>0</td>\n",
              "      <td>0</td>\n",
              "      <td>0</td>\n",
              "      <td>1</td>\n",
              "      <td>0</td>\n",
              "      <td>0</td>\n",
              "      <td>0</td>\n",
              "      <td>0</td>\n",
              "    </tr>\n",
              "    <tr>\n",
              "      <th>2228</th>\n",
              "      <td>0</td>\n",
              "      <td>1</td>\n",
              "      <td>1</td>\n",
              "      <td>0</td>\n",
              "      <td>0</td>\n",
              "      <td>0</td>\n",
              "      <td>0</td>\n",
              "      <td>0</td>\n",
              "      <td>0</td>\n",
              "      <td>0</td>\n",
              "      <td>0</td>\n",
              "      <td>0</td>\n",
              "      <td>0</td>\n",
              "      <td>0</td>\n",
              "      <td>1</td>\n",
              "      <td>0</td>\n",
              "      <td>0</td>\n",
              "      <td>0</td>\n",
              "      <td>0</td>\n",
              "      <td>0</td>\n",
              "      <td>0</td>\n",
              "      <td>0</td>\n",
              "      <td>1</td>\n",
              "      <td>0</td>\n",
              "      <td>1</td>\n",
              "      <td>0</td>\n",
              "      <td>0</td>\n",
              "      <td>0</td>\n",
              "      <td>0</td>\n",
              "      <td>0</td>\n",
              "      <td>0</td>\n",
              "      <td>0</td>\n",
              "      <td>0</td>\n",
              "      <td>1</td>\n",
              "      <td>0</td>\n",
              "      <td>0</td>\n",
              "      <td>0</td>\n",
              "      <td>0</td>\n",
              "      <td>1</td>\n",
              "      <td>0</td>\n",
              "    </tr>\n",
              "  </tbody>\n",
              "</table>\n",
              "</div>"
            ],
            "text/plain": [
              "       gender_M  ...  employed_months_above 200\n",
              "2919          1  ...                          0\n",
              "21211         0  ...                          0\n",
              "15429         0  ...                          0\n",
              "16362         1  ...                          0\n",
              "2228          0  ...                          0\n",
              "\n",
              "[5 rows x 40 columns]"
            ]
          },
          "metadata": {
            "tags": []
          },
          "execution_count": 725
        }
      ]
    },
    {
      "cell_type": "code",
      "metadata": {
        "id": "zov4lf3eK4t_"
      },
      "source": [
        "from sklearn.linear_model import LogisticRegression\n",
        "model = LogisticRegression(max_iter = 1000, class_weight = 'balanced')"
      ],
      "execution_count": null,
      "outputs": []
    },
    {
      "cell_type": "code",
      "metadata": {
        "colab": {
          "base_uri": "https://localhost:8080/"
        },
        "id": "RSgVpWM7M8Lc",
        "outputId": "ae3a344c-c573-456e-89bb-0f0969909ff2"
      },
      "source": [
        "model.fit(X_train, y_train)"
      ],
      "execution_count": null,
      "outputs": [
        {
          "output_type": "execute_result",
          "data": {
            "text/plain": [
              "LogisticRegression(C=1.0, class_weight='balanced', dual=False,\n",
              "                   fit_intercept=True, intercept_scaling=1, l1_ratio=None,\n",
              "                   max_iter=1000, multi_class='auto', n_jobs=None, penalty='l2',\n",
              "                   random_state=None, solver='lbfgs', tol=0.0001, verbose=0,\n",
              "                   warm_start=False)"
            ]
          },
          "metadata": {
            "tags": []
          },
          "execution_count": 727
        }
      ]
    },
    {
      "cell_type": "code",
      "metadata": {
        "colab": {
          "base_uri": "https://localhost:8080/"
        },
        "id": "QfHB5jAEdBYI",
        "outputId": "2131ac73-d0d0-4a96-c916-98eb4ea0e9e5"
      },
      "source": [
        "X_test.shape"
      ],
      "execution_count": null,
      "outputs": [
        {
          "output_type": "execute_result",
          "data": {
            "text/plain": [
              "(8295, 27)"
            ]
          },
          "metadata": {
            "tags": []
          },
          "execution_count": 728
        }
      ]
    },
    {
      "cell_type": "code",
      "metadata": {
        "id": "k6M5zlKFNAIQ"
      },
      "source": [
        "X_test.drop(['income_type', 'occupation', 'children', 'family_members', 'month_begin', 'age', 'income', 'employed_months'], axis = 1, inplace = True)"
      ],
      "execution_count": null,
      "outputs": []
    },
    {
      "cell_type": "code",
      "metadata": {
        "id": "-Ve7-KnHUIPQ"
      },
      "source": [
        "X_test.drop(['income_type_bins', 'family_members_bins', 'house_type', 'work_phone', 'children_bins', 'phone', 'email', 'car'], axis = 1, inplace = True)"
      ],
      "execution_count": null,
      "outputs": []
    },
    {
      "cell_type": "code",
      "metadata": {
        "id": "kHkgpR4RUEp8"
      },
      "source": [
        "X_test.rename(columns={'occupation_bins':'occupation', 'month_begin_bins':'month_begin','age_bins':'age','income_bins':'income','empl_bins':'employed_months'}, inplace=True)"
      ],
      "execution_count": null,
      "outputs": []
    },
    {
      "cell_type": "code",
      "metadata": {
        "id": "wg7MdjGJUU_-"
      },
      "source": [
        "X_test.drop(['bad', 'ID'], axis=1, inplace=True)"
      ],
      "execution_count": null,
      "outputs": []
    },
    {
      "cell_type": "code",
      "metadata": {
        "colab": {
          "base_uri": "https://localhost:8080/"
        },
        "id": "pMMStcR9dNlm",
        "outputId": "c2408b3a-1faf-4ed4-ed1c-57968df2e7f9"
      },
      "source": [
        "X_test.shape"
      ],
      "execution_count": null,
      "outputs": [
        {
          "output_type": "execute_result",
          "data": {
            "text/plain": [
              "(8295, 9)"
            ]
          },
          "metadata": {
            "tags": []
          },
          "execution_count": 734
        }
      ]
    },
    {
      "cell_type": "code",
      "metadata": {
        "id": "pk2j3mE_Udnq"
      },
      "source": [
        "X_test = pd.get_dummies(X_test, drop_first=True)"
      ],
      "execution_count": null,
      "outputs": []
    },
    {
      "cell_type": "code",
      "metadata": {
        "colab": {
          "base_uri": "https://localhost:8080/"
        },
        "id": "mBjxWIXhNPq5",
        "outputId": "d6aa8d3b-28f3-4ade-a653-ac77732cc1b8"
      },
      "source": [
        "X_test.shape"
      ],
      "execution_count": null,
      "outputs": [
        {
          "output_type": "execute_result",
          "data": {
            "text/plain": [
              "(8295, 40)"
            ]
          },
          "metadata": {
            "tags": []
          },
          "execution_count": 736
        }
      ]
    },
    {
      "cell_type": "code",
      "metadata": {
        "id": "ubVqlVBrNt0O"
      },
      "source": [
        "prediction = model.predict(X_test)"
      ],
      "execution_count": null,
      "outputs": []
    },
    {
      "cell_type": "code",
      "metadata": {
        "colab": {
          "base_uri": "https://localhost:8080/"
        },
        "id": "ERmZAmw3VQC9",
        "outputId": "09a4b316-9fbf-43d0-ed40-110ee084512c"
      },
      "source": [
        "X_test.shape"
      ],
      "execution_count": null,
      "outputs": [
        {
          "output_type": "execute_result",
          "data": {
            "text/plain": [
              "(8295, 40)"
            ]
          },
          "metadata": {
            "tags": []
          },
          "execution_count": 738
        }
      ]
    },
    {
      "cell_type": "code",
      "metadata": {
        "colab": {
          "base_uri": "https://localhost:8080/"
        },
        "id": "uW0bXh8BVS_p",
        "outputId": "2bad2397-ad88-4cac-ca87-7650ac2aae3a"
      },
      "source": [
        "y_test.shape"
      ],
      "execution_count": null,
      "outputs": [
        {
          "output_type": "execute_result",
          "data": {
            "text/plain": [
              "(8295,)"
            ]
          },
          "metadata": {
            "tags": []
          },
          "execution_count": 739
        }
      ]
    },
    {
      "cell_type": "code",
      "metadata": {
        "id": "ZAZrQdh1UxtC"
      },
      "source": [
        "from sklearn.metrics import classification_report, confusion_matrix"
      ],
      "execution_count": null,
      "outputs": []
    },
    {
      "cell_type": "code",
      "metadata": {
        "colab": {
          "base_uri": "https://localhost:8080/"
        },
        "id": "QR60LH57U4iW",
        "outputId": "5d96dae1-cd95-4586-c07f-9e366422cbd1"
      },
      "source": [
        "print(classification_report(y_test, prediction))\n",
        "print(confusion_matrix(y_test, prediction))"
      ],
      "execution_count": null,
      "outputs": [
        {
          "output_type": "stream",
          "text": [
            "              precision    recall  f1-score   support\n",
            "\n",
            "           0       0.99      0.64      0.77      8156\n",
            "           1       0.03      0.60      0.05       139\n",
            "\n",
            "    accuracy                           0.64      8295\n",
            "   macro avg       0.51      0.62      0.41      8295\n",
            "weighted avg       0.97      0.64      0.76      8295\n",
            "\n",
            "[[5184 2972]\n",
            " [  55   84]]\n"
          ],
          "name": "stdout"
        }
      ]
    }
  ]
}